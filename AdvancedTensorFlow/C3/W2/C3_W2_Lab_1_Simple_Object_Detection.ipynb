{
 "nbformat": 4,
 "nbformat_minor": 0,
 "metadata": {
  "accelerator": "GPU",
  "colab": {
   "private_outputs": true,
   "provenance": [],
   "machine_shape": "hm"
  },
  "kernelspec": {
   "display_name": "Python 3",
   "language": "python",
   "name": "python3"
  },
  "language_info": {
   "codemirror_mode": {
    "name": "ipython",
    "version": 3
   },
   "file_extension": ".py",
   "mimetype": "text/x-python",
   "name": "python",
   "nbconvert_exporter": "python",
   "pygments_lexer": "ipython3",
   "version": "3.7.4"
  },
  "gpuClass": "standard"
 },
 "cells": [
  {
   "cell_type": "markdown",
   "metadata": {
    "id": "8DkMLuGDhCR6"
   },
   "source": [
    "# Object Detection Using API"
   ]
  },
  {
   "cell_type": "code",
   "metadata": {
    "id": "OEoRKdmByrb0"
   },
   "source": [
    "import tensorflow as tf\n",
    "import tensorflow_hub as hub\n",
    "import numpy as np\n",
    "import matplotlib.pyplot as plt\n",
    "from PIL import ImageColor, ImageDraw, ImageFont, Image, ImageOps\n",
    "import time\n",
    "import tempfile\n",
    "\n",
    "# Six is a Python 2 and 3 compatibility library. \n",
    "# It provides utility functions for smoothing over the differences between the \n",
    "# Python versions with the goal of writing Python code that is compatible on \n",
    "# both Python versions.\n",
    "from six.moves.urllib.request import urlopen\n",
    "from six import BytesIO\n",
    "\n",
    "# Check available GPU devices.\n",
    "print(\"The following GPU devices are available: %s\" % tf.test.gpu_device_name())"
   ],
   "execution_count": null,
   "outputs": []
  },
  {
   "cell_type": "markdown",
   "metadata": {
    "id": "nb8MBgTOhCR6"
   },
   "source": [
    "### Download the model from Tensorflow Hub\n",
    "\n",
    "Tensorflow Hub is a repository of trained machine learning models which you can reuse in your own projects. \n",
    "- You can see the domains covered [here](https://tfhub.dev/) and its subcategories. \n",
    "- For this lab, you will want to look at the [image object detection subcategory](https://tfhub.dev/s?module-type=image-object-detection). \n",
    "- You can select a model to see more information about it and copy the URL so you can download it to your workspace. \n",
    "\n",
    "\n",
    "[inception resnet version 2](https://tfhub.dev/google/faster_rcnn/openimages_v4/inception_resnet_v2/1)\n",
    "\n",
    "[ssd mobilenet version 2](https://tfhub.dev/tensorflow/ssd_mobilenet_v2/2)"
   ]
  },
  {
   "cell_type": "code",
   "metadata": {
    "id": "C9pCzz4uy20U"
   },
   "source": [
    "# inception resnet version 2\n",
    "module_handle = \"https://tfhub.dev/google/faster_rcnn/openimages_v4/inception_resnet_v2/1\"\n",
    "\n",
    "# ssd mobilenet version 2\n",
    "#module_handle = \"https://tfhub.dev/google/openimages_v4/ssd/mobilenet_v2/1\"\n",
    "\n",
    "# load the model\n",
    "model = hub.load(module_handle)\n",
    "\n",
    "# take a look at the available signatures for this particular model\n",
    "# different signature can be used for different tasks\n",
    "print(model.signatures.keys())\n",
    "\n",
    "# choose the default signature\n",
    "# For object detection models, its 'default' signature will accept a batch of \n",
    "# image tensors and output a dictionary describing the objects detected\n",
    "detector = model.signatures['default']"
   ],
   "execution_count": null,
   "outputs": []
  },
  {
   "cell_type": "markdown",
   "metadata": {
    "id": "Wvb-3r3thCR7"
   },
   "source": [
    "### download_and_resize_image\n",
    "\n",
    "This function downloads an image specified by a given \"url\", pre-processes it, and then saves it to disk."
   ]
  },
  {
   "cell_type": "code",
   "metadata": {
    "id": "Ucsxak_qhCR7"
   },
   "source": [
    "def download_and_resize_image(url, new_width=256, new_height=256, display = False):\n",
    "    '''\n",
    "    Fetches an image online, resizes it and saves it locally.\n",
    "    \n",
    "    Args:\n",
    "        url (string) -- link to the image\n",
    "        new_width (int) -- size in pixels used for resizing the width of the image\n",
    "        new_height (int) -- size in pixels used for resizing the length of the image\n",
    "        \n",
    "    Returns:\n",
    "        (string) -- path to the saved image\n",
    "    '''\n",
    "    \n",
    "    # create a temporary file ending with \".jpg\"\n",
    "    _, filename = tempfile.mkstemp(suffix=\".jpg\")\n",
    "    \n",
    "    # opens the given URL\n",
    "    response = urlopen(url)\n",
    "    \n",
    "    # reads the image fetched from the URL\n",
    "    image_data = response.read()\n",
    "    \n",
    "    # puts the image data in memory buffer\n",
    "    image_data = BytesIO(image_data)\n",
    "    \n",
    "    # opens the image\n",
    "    pil_image = Image.open(image_data)\n",
    "    \n",
    "    # resizes the image. will crop if aspect ratio is different.\n",
    "    # the Image.Antialias renamed to Image.Lanczos\n",
    "    pil_image = ImageOps.fit(pil_image, (new_width, new_height), Image.LANCZOS)\n",
    "    \n",
    "    # converts to the RGB colorspace\n",
    "    pil_image_rgb = pil_image.convert(\"RGB\")\n",
    "    \n",
    "    # saves the image to the temporary file created earlier\n",
    "    pil_image_rgb.save(filename, format=\"JPEG\", quality=90)\n",
    "    \n",
    "    print(\"Image downloaded to %s.\" % filename)\n",
    "\n",
    "    if (display):\n",
    "      fig = plt.figure(figsize = (20, 15))\n",
    "      plt.grid(False)\n",
    "      plt.imshow(pil_image_rgb)\n",
    "    \n",
    "    return filename"
   ],
   "execution_count": null,
   "outputs": []
  },
  {
   "cell_type": "markdown",
   "metadata": {
    "id": "r7qodEJHhCR7"
   },
   "source": [
    "### Download and preprocess an image\n",
    "\n",
    "Now, using `download_and_resize_image` you can get a sample image online and save it locally. \n",
    "- We've provided a URL for you, but feel free to choose another image to run through the object detector.\n",
    "- You can use the original width and height of the image but feel free to modify it and see what results you get."
   ]
  },
  {
   "cell_type": "code",
   "metadata": {
    "id": "xHTDalVrhCR7"
   },
   "source": [
    "# You can choose a different URL that points to an image of your choice\n",
    "image_url = \"https://upload.wikimedia.org/wikipedia/commons/b/b3/I-90-94_Entrance_at_Madison_Street%2C_Chicago_%2814560285196%29.jpg\"\n",
    "\n",
    "# download the image and use the original height and width\n",
    "downloaded_image_path = download_and_resize_image(image_url, 3872, 2592, True)"
   ],
   "execution_count": null,
   "outputs": []
  },
  {
   "cell_type": "markdown",
   "source": [
    "## Prepare for Visualization\n"
   ],
   "metadata": {
    "id": "0Ky6IpMBqsQN"
   }
  },
  {
   "cell_type": "code",
   "source": [
    "def draw_bounding_box_on_image(image, ymin, xmin, ymax, xmax, color, font, thickness=6, display_str_list=()):\n",
    "\n",
    "    \"\"\"\n",
    "    Adds a bounding box to an image.\n",
    "    \n",
    "    Args:\n",
    "        image -- the image object\n",
    "        ymin -- bounding box coordinate\n",
    "        xmin -- bounding box coordinate\n",
    "        ymax -- bounding box coordinate\n",
    "        xmax -- bounding box coordinate\n",
    "        color -- color for the bounding box edges\n",
    "        font -- font for class label\n",
    "        thickness -- edge thickness of the bounding box\n",
    "        display_str_list -- class labels for each object detected\n",
    "    \n",
    "    \n",
    "    Returns:\n",
    "        No return.  The function modifies the `image` argument \n",
    "                    that gets passed into this function\n",
    "    \n",
    "    \"\"\"\n",
    "    draw = ImageDraw.Draw(image)\n",
    "    im_width, im_height = image.size\n",
    "    \n",
    "    # scale the bounding box coordinates to the height and width of the image\n",
    "    (left, right, top, bottom) = (xmin * im_width, xmax * im_width,\n",
    "                                ymin * im_height, ymax * im_height)\n",
    "    \n",
    "    # define the four edges of the detection box\n",
    "    draw.line([(left, top), (left, bottom), (right, bottom), (right, top),\n",
    "             (left, top)],\n",
    "            width=thickness,\n",
    "            fill=color)\n",
    "\n",
    "    # If the total height of the display strings added to the top of the bounding\n",
    "    # box exceeds the top of the image, stack the strings below the bounding box\n",
    "    # instead of above.\n",
    "    display_str_heights = [font.getsize(ds)[1] for ds in display_str_list]\n",
    "    # Each display_str has a top and bottom margin of 0.05x.\n",
    "    total_display_str_height = (1 + 2 * 0.05) * sum(display_str_heights)\n",
    "\n",
    "    if top > total_display_str_height:\n",
    "        text_bottom = top\n",
    "    else:\n",
    "        text_bottom = top + total_display_str_height\n",
    "        \n",
    "    # Reverse list and print from bottom to top.\n",
    "    for display_str in display_str_list[::-1]:\n",
    "        text_width, text_height = font.getsize(display_str)\n",
    "        margin = np.ceil(0.05 * text_height)\n",
    "        draw.rectangle([(left, text_bottom - text_height - 2 * margin),\n",
    "                        (left + text_width, text_bottom)],\n",
    "                       fill=color)\n",
    "        draw.text((left + margin, text_bottom - text_height - margin),\n",
    "                  display_str,\n",
    "                  fill=\"black\",\n",
    "                  font=font)\n",
    "        text_bottom -= text_height - 2 * margin\n",
    "\n",
    "\n",
    "def draw_boxes(image, boxes, class_names, scores, max_boxes=10, min_score=0.1):\n",
    "    \"\"\"\n",
    "    Overlay labeled boxes on an image with formatted scores and label names.\n",
    "    \n",
    "    Args:\n",
    "        image -- the image as a numpy array\n",
    "        boxes -- list of detection boxes\n",
    "        class_names -- list of classes for each detected object\n",
    "        scores -- numbers showing the model's confidence in detecting that object\n",
    "        max_boxes -- maximum detection boxes to overlay on the image (default is 10)\n",
    "        min_score -- minimum score required to display a bounding box\n",
    "    \n",
    "    Returns:\n",
    "        image -- the image after detection boxes and classes are overlaid on the original image.\n",
    "    \"\"\"\n",
    "    colors = list(ImageColor.colormap.values())\n",
    "\n",
    "    try:\n",
    "        font = ImageFont.truetype(\"/usr/share/fonts/truetype/liberation/LiberationSansNarrow-Regular.ttf\",\n",
    "                              35)\n",
    "    except IOError:\n",
    "        print(\"Font not found, using default font.\")\n",
    "        font = ImageFont.load_default()\n",
    "\n",
    "    for i in range(min(boxes.shape[0], max_boxes)):\n",
    "        \n",
    "        # only display detection boxes that have the minimum score or higher\n",
    "        if scores[i] >= min_score:\n",
    "            ymin, xmin, ymax, xmax = tuple(boxes[i])\n",
    "            display_str = \"{}: {}%\".format(class_names[i].decode(\"ascii\"),\n",
    "                                         int(100 * scores[i]))\n",
    "            color = colors[hash(class_names[i]) % len(colors)]\n",
    "            image_pil = Image.fromarray(np.uint8(image)).convert(\"RGB\")\n",
    "\n",
    "            # draw one bounding box and overlay the class labels onto the image\n",
    "            draw_bounding_box_on_image(image_pil, ymin, xmin, ymax, xmax, color, font, display_str_list=[display_str])\n",
    "            np.copyto(image, np.array(image_pil))\n",
    "        \n",
    "    return image"
   ],
   "metadata": {
    "id": "DWjtprNUqri5"
   },
   "execution_count": null,
   "outputs": []
  },
  {
   "cell_type": "markdown",
   "metadata": {
    "id": "IVNXUKMIhCR7"
   },
   "source": [
    "### run_detector\n",
    "\n",
    "This function will take in the object detection model `detector` and the path to a sample image, then use this model to detect objects and display its predicted class categories and detection boxes.\n",
    "- run_detector uses `load_image` to convert the image into a tensor."
   ]
  },
  {
   "cell_type": "code",
   "metadata": {
    "id": "wkkiQzKlhCR7"
   },
   "source": [
    "# load an image and turn to a tensor\n",
    "img = tf.io.read_file(downloaded_image_path)\n",
    "img = tf.image.decode_jpeg(img, channels = 3)\n",
    "\n",
    "# add a batch dimension in front of the tensor\n",
    "# converted_img.shape = [1, 2592, 3872, 3]\n",
    "converted_img  = tf.image.convert_image_dtype(img, tf.float32)[tf.newaxis, ...]\n",
    "\n",
    "start_time = time.time()\n",
    "result = detector(converted_img)\n",
    "end_time = time.time()\n",
    "\n",
    "# save the results in a dictionary\n",
    "result = {key:value.numpy() for key,value in result.items()}\n",
    "\n",
    "# print results\n",
    "print(\"Found %d objects.\" % len(result[\"detection_scores\"]))\n",
    "print(\"Inference Time: \", end_time - start_time)\n",
    "\n",
    "# print(result[\"detection_scores\"]) # detection scores\n",
    "# print(result[\"detection_class_entities\"]) # classes\n",
    "# print(result[\"detection_boxes\"]) # bounding box\n",
    "\n",
    "image_with_boxes = draw_boxes(img.numpy(), result['detection_boxes'], result['detection_class_entities'], result['detection_scores'])\n",
    "\n",
    "# display image\n",
    "\n",
    "fig = plt.figure(figsize = (20, 15))\n",
    "plt.grid(False)\n",
    "plt.imshow(image_with_boxes)\n"
   ],
   "execution_count": null,
   "outputs": []
  }
 ]
}