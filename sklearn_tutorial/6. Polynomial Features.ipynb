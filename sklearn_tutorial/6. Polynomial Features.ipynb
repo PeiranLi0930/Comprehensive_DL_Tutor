{
 "cells": [
  {
   "cell_type": "markdown",
   "source": [
    "# PolynomialFeatures\n",
    "\n",
    "1. **Purpose**: The primary goal of 'PolynomialFeatures' is to generate polynomial and interaction features. It can be used to add complexity to your model by **including not only the features themselves but also their powers and interaction terms**.\n",
    "2. **Polynomial Features**: These are features created by raising existing features to a power. For example, if your original feature is $x$, polynomial features might include $x^2, x^3$, etc.\n",
    "3. **Interaction Features**: These are features created by multiplying two or more features together. For example, if you have two features $x$ and $y$, an interaction feature could be $x \\times y$."
   ],
   "metadata": {
    "collapsed": false
   },
   "id": "68241bda0be88716"
  },
  {
   "cell_type": "markdown",
   "source": [
    "## Predict House Prices\n"
   ],
   "metadata": {
    "collapsed": false
   },
   "id": "a968090108335b5b"
  },
  {
   "cell_type": "code",
   "execution_count": 3,
   "id": "initial_id",
   "metadata": {
    "collapsed": true,
    "ExecuteTime": {
     "end_time": "2023-12-29T23:17:11.131673Z",
     "start_time": "2023-12-29T23:17:11.127033Z"
    }
   },
   "outputs": [
    {
     "name": "stdout",
     "output_type": "stream",
     "text": [
      "Predicted Price: [412.15104733]\n"
     ]
    }
   ],
   "source": [
    "from sklearn.preprocessing import PolynomialFeatures\n",
    "\n",
    "# Features: size (in square feet), age (in years)\n",
    "X = [[2400, 10], [3000, 3], [1500, 15]]\n",
    "# Target: Price (in thousands)\n",
    "y = [500, 700, 300]\n",
    "\n",
    "# Apply PolynomialFeatures\n",
    "poly = PolynomialFeatures(degree = 2, interaction_only = False, include_bias = True)\n",
    "X_transformed = poly.fit_transform(X)\n",
    "\n",
    "# Model Training \n",
    "from sklearn.linear_model import LinearRegression\n",
    "model = LinearRegression()\n",
    "model.fit(X_transformed, y)\n",
    "\n",
    "# Prediction\n",
    "new_house = poly.transform([[2000, 5]])\n",
    "predicted_price = model.predict(new_house)\n",
    "print(f\"Predicted Price: {predicted_price}\")"
   ]
  },
  {
   "cell_type": "code",
   "execution_count": 4,
   "outputs": [
    {
     "name": "stdout",
     "output_type": "stream",
     "text": [
      "Mean Absolute Error: 3.789561257387201e-14\n",
      "Mean Squared Error: 4.308232357047019e-27\n",
      "Root Mean Squared Error: 6.563712636189231e-14\n",
      "R-squared: 1.0\n"
     ]
    }
   ],
   "source": [
    "from sklearn.metrics import mean_absolute_error, mean_squared_error, r2_score\n",
    "import numpy as np\n",
    "\n",
    "# Predict using the model\n",
    "y_pred = model.predict(X_transformed)\n",
    "\n",
    "# Calculate MAE\n",
    "mae = mean_absolute_error(y, y_pred)\n",
    "print(f\"Mean Absolute Error: {mae}\")\n",
    "\n",
    "# Calculate MSE\n",
    "mse = mean_squared_error(y, y_pred)\n",
    "print(f\"Mean Squared Error: {mse}\")\n",
    "\n",
    "# Calculate RMSE\n",
    "rmse = np.sqrt(mse)\n",
    "print(f\"Root Mean Squared Error: {rmse}\")\n",
    "\n",
    "# Calculate R-squared\n",
    "r2 = r2_score(y, y_pred)\n",
    "print(f\"R-squared: {r2}\")"
   ],
   "metadata": {
    "collapsed": false,
    "ExecuteTime": {
     "end_time": "2023-12-29T23:17:11.298084Z",
     "start_time": "2023-12-29T23:17:11.294445Z"
    }
   },
   "id": "46735c7f03f741a9"
  },
  {
   "cell_type": "markdown",
   "source": [
    "# Pipeline Tools\n",
    "- ensures all steps in the workflow are executed in a systematic manner, which is particularly beneficial for cross-validation and grid search procedures"
   ],
   "metadata": {
    "collapsed": false
   },
   "id": "59e8203d4dd7c17d"
  },
  {
   "cell_type": "code",
   "execution_count": 1,
   "outputs": [
    {
     "name": "stdout",
     "output_type": "stream",
     "text": [
      "Training set score: 0.999999111738292\n",
      "Test set score: 0.9999993299106112\n"
     ]
    }
   ],
   "source": [
    "from sklearn.pipeline import Pipeline\n",
    "from sklearn.preprocessing import StandardScaler, PolynomialFeatures\n",
    "from sklearn.linear_model import LinearRegression\n",
    "from sklearn.model_selection import train_test_split\n",
    "from sklearn.datasets import make_regression\n",
    "\n",
    "# Generate some data to work with\n",
    "X, y = make_regression(n_samples=100, n_features=2, noise=0.1)\n",
    "\n",
    "# Split the dataset into training and testing sets\n",
    "X_train, X_test, y_train, y_test = train_test_split(X, y, test_size=0.2, random_state=0)\n",
    "\n",
    "# Create a pipeline that first standardizes the data, then applies polynomial features,\n",
    "# and finally fits a linear regression model\n",
    "pipeline = Pipeline([\n",
    "    ('scaler', StandardScaler()),\n",
    "    ('poly', PolynomialFeatures(degree=2)),\n",
    "    ('linear', LinearRegression())\n",
    "])\n",
    "\n",
    "# Use the pipeline to fit the model on the training data\n",
    "pipeline.fit(X_train, y_train)\n",
    "\n",
    "# Now you can use the pipeline to make predictions\n",
    "y_pred = pipeline.predict(X_test)\n",
    "\n",
    "# The pipeline can also be used to evaluate the model\n",
    "print(f\"Training set score: {pipeline.score(X_train, y_train)}\")\n",
    "print(f\"Test set score: {pipeline.score(X_test, y_test)}\")\n"
   ],
   "metadata": {
    "collapsed": false,
    "ExecuteTime": {
     "end_time": "2024-01-22T23:34:24.690797Z",
     "start_time": "2024-01-22T23:34:21.379759Z"
    }
   }
  },
  {
   "cell_type": "markdown",
   "source": [],
   "metadata": {
    "collapsed": false
   },
   "id": "892e5ca918033b0f"
  }
 ],
 "metadata": {
  "kernelspec": {
   "display_name": "Python 3",
   "language": "python",
   "name": "python3"
  },
  "language_info": {
   "codemirror_mode": {
    "name": "ipython",
    "version": 2
   },
   "file_extension": ".py",
   "mimetype": "text/x-python",
   "name": "python",
   "nbconvert_exporter": "python",
   "pygments_lexer": "ipython2",
   "version": "2.7.6"
  }
 },
 "nbformat": 4,
 "nbformat_minor": 5
}
