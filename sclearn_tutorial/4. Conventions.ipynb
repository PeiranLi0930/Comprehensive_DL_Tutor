{
 "cells": [
  {
   "cell_type": "markdown",
   "source": [
    "# Uniform Basic API\n",
    "\n",
    "- **Estimator Interface** for building and fitting the models\n",
    "- **Predictor Interface** for making predictions\n",
    "- **Transformer Interface** for converting data"
   ],
   "metadata": {
    "collapsed": false
   }
  },
  {
   "cell_type": "markdown",
   "source": [
    "### Refitting & Updating Parameters\n",
    "\n",
    "- Hyperparameters can be updated and refitted after doing set_param()"
   ],
   "metadata": {
    "collapsed": false
   }
  },
  {
   "cell_type": "code",
   "execution_count": 7,
   "outputs": [
    {
     "name": "stdout",
     "output_type": "stream",
     "text": [
      "[0 0 0 0 0]\n",
      "[0 0 0 0 0]\n"
     ]
    }
   ],
   "source": [
    "from sklearn.datasets import load_iris\n",
    "from sklearn.svm import SVC\n",
    "\n",
    "X, y = load_iris(return_X_y = True)\n",
    "model = SVC()\n",
    "model.set_params(kernel = \"linear\").fit(X, y)\n",
    "print(model.predict(X[:5]))\n",
    "\n",
    "# Now we change back to the default rbf kernel and refit the model\n",
    "model.set_params(kernel = \"rbf\").fit(X, y)\n",
    "print(model.predict(X[:5]))"
   ],
   "metadata": {
    "collapsed": false,
    "ExecuteTime": {
     "end_time": "2023-12-23T02:00:01.858150Z",
     "start_time": "2023-12-23T02:00:01.849968Z"
    }
   }
  },
  {
   "cell_type": "markdown",
   "source": [
    "### Multiclass & Multilabel Fitting\n",
    "- Use **LabelBinarizer().fit_transform(y)** to transfer multiclass labels to one-hot vectors."
   ],
   "metadata": {
    "collapsed": false
   }
  },
  {
   "cell_type": "code",
   "execution_count": 19,
   "outputs": [
    {
     "name": "stdout",
     "output_type": "stream",
     "text": [
      "y_hat: [0 1 1 1 2]\n",
      "Total accuracy: 0.8\n"
     ]
    }
   ],
   "source": [
    "from sklearn.multiclass import OneVsRestClassifier\n",
    "from sklearn.preprocessing import LabelBinarizer\n",
    "from sklearn.svm import SVC\n",
    "X = [[1, 2],\n",
    "     [3, 4],\n",
    "     [4, 5],\n",
    "     [5, 2],\n",
    "     [1, 1]]\n",
    "y = [0, 0, 1, 1, 2]\n",
    "\n",
    "model = OneVsRestClassifier(SVC(gamma = \"scale\", random_state = 0))\n",
    "model.fit(X, y)\n",
    "# get the accuracy by metrics\n",
    "from sklearn import metrics\n",
    "y_hat = model.predict(X)\n",
    "print(f\"y_hat: {y_hat}\")\n",
    "print(f\"Total accuracy: {metrics.accuracy_score(y, y_hat)}\")"
   ],
   "metadata": {
    "collapsed": false,
    "ExecuteTime": {
     "end_time": "2023-12-23T02:05:28.870442Z",
     "start_time": "2023-12-23T02:05:28.865572Z"
    }
   }
  },
  {
   "cell_type": "code",
   "execution_count": 20,
   "outputs": [
    {
     "name": "stdout",
     "output_type": "stream",
     "text": [
      "[[1 0 0]\n",
      " [1 0 0]\n",
      " [0 1 0]\n",
      " [0 1 0]\n",
      " [0 0 1]]\n",
      "y_hat: [[0 0 0]\n",
      " [0 0 0]\n",
      " [0 1 0]\n",
      " [0 1 0]\n",
      " [0 0 0]]\n",
      "Total accuracy: 0.4\n"
     ]
    }
   ],
   "source": [
    "X = [[1, 2],\n",
    "     [3, 4],\n",
    "     [4, 5],\n",
    "     [5, 2],\n",
    "     [1, 1]]\n",
    "y = [0, 0, 1, 1, 2]\n",
    "y = LabelBinarizer().fit_transform(y) # transfer to one-hot vector\n",
    "print(y)"
   ],
   "metadata": {
    "collapsed": false,
    "ExecuteTime": {
     "end_time": "2023-12-23T02:06:15.923037Z",
     "start_time": "2023-12-23T02:06:15.911489Z"
    }
   }
  },
  {
   "cell_type": "markdown",
   "source": [
    "An instance can be assigned multiple labels. The **MultiLabelBinarizer** is used to binarize the labels in a one-vs-all fashion."
   ],
   "metadata": {
    "collapsed": false
   }
  },
  {
   "cell_type": "code",
   "execution_count": 21,
   "outputs": [
    {
     "name": "stdout",
     "output_type": "stream",
     "text": [
      "[[1 1 0 0 0]\n",
      " [1 0 1 0 0]\n",
      " [0 1 0 1 0]\n",
      " [1 0 1 1 0]\n",
      " [0 0 1 0 1]]\n"
     ]
    }
   ],
   "source": [
    "from sklearn.preprocessing import MultiLabelBinarizer\n",
    "y = [[0, 1], [0, 2], [1, 3], [0, 2, 3], [2, 4]]\n",
    "y = MultiLabelBinarizer().fit_transform(y)\n",
    "print(y)"
   ],
   "metadata": {
    "collapsed": false,
    "ExecuteTime": {
     "end_time": "2023-12-23T02:09:58.853138Z",
     "start_time": "2023-12-23T02:09:58.844789Z"
    }
   }
  },
  {
   "cell_type": "markdown",
   "source": [],
   "metadata": {
    "collapsed": false
   }
  }
 ],
 "metadata": {
  "kernelspec": {
   "display_name": "Python 3",
   "language": "python",
   "name": "python3"
  },
  "language_info": {
   "codemirror_mode": {
    "name": "ipython",
    "version": 2
   },
   "file_extension": ".py",
   "mimetype": "text/x-python",
   "name": "python",
   "nbconvert_exporter": "python",
   "pygments_lexer": "ipython2",
   "version": "2.7.6"
  }
 },
 "nbformat": 4,
 "nbformat_minor": 0
}
