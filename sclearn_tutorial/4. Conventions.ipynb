{
 "cells": [
  {
   "cell_type": "markdown",
   "source": [
    "# Uniform Basic API\n",
    "\n",
    "- **Estimator Interface** for building and fitting the models\n",
    "- **Predictor Interface** for making predictions\n",
    "- **Transformer Interface** for converting data"
   ],
   "metadata": {
    "collapsed": false
   }
  },
  {
   "cell_type": "markdown",
   "source": [
    "## Various Conventions\n",
    "\n",
    "### Type Casting\n",
    "- input should be cast to float64"
   ],
   "metadata": {
    "collapsed": false
   }
  },
  {
   "cell_type": "code",
   "execution_count": 7,
   "metadata": {
    "collapsed": true,
    "ExecuteTime": {
     "end_time": "2023-10-26T20:29:42.947531Z",
     "start_time": "2023-10-26T20:29:42.834668Z"
    }
   },
   "outputs": [
    {
     "data": {
      "text/plain": "(dtype('float64'), dtype('float64'))"
     },
     "execution_count": 7,
     "metadata": {},
     "output_type": "execute_result"
    }
   ],
   "source": [
    "from sklearn import random_projection\n",
    "import numpy as np\n",
    "\n",
    "rand_seed = np.random.RandomState(0)\n",
    "X = rand_seed.rand(10, 2000)\n",
    "\n",
    "transformer = random_projection.GaussianRandomProjection()\n",
    "X_tran = transformer.fit_transform(X)\n",
    "X_tran.dtype, X.dtype"
   ]
  },
  {
   "cell_type": "markdown",
   "source": [
    "### Refitting & Updating Paras\n",
    "\n",
    "- Hyperparas can be updated and refitted after doing set_param()"
   ],
   "metadata": {
    "collapsed": false
   }
  },
  {
   "cell_type": "code",
   "execution_count": 9,
   "outputs": [
    {
     "data": {
      "text/plain": "(10, 1973)"
     },
     "execution_count": 9,
     "metadata": {},
     "output_type": "execute_result"
    }
   ],
   "source": [
    "from sklearn.datasets import load_iris\n",
    "from sklearn.svm import SVC\n",
    "\n",
    "X, y = load_iris(return_X_y = True)\n",
    "model = SVC()\n",
    "model.set_params(kernel = \"linear\").fit(X, y)"
   ],
   "metadata": {
    "collapsed": false,
    "ExecuteTime": {
     "end_time": "2023-10-26T20:32:06.638829Z",
     "start_time": "2023-10-26T20:32:06.636112Z"
    }
   }
  },
  {
   "cell_type": "markdown",
   "source": [
    "### Multiclass & Multilabel Fitting\n",
    "- Use **LabelBinarizer().fit_transform(y)** to transfer multiclass labels to one-hot vectors."
   ],
   "metadata": {
    "collapsed": false
   }
  },
  {
   "cell_type": "code",
   "execution_count": 13,
   "outputs": [
    {
     "data": {
      "text/plain": "array([0, 1, 1, 1, 2])"
     },
     "execution_count": 13,
     "metadata": {},
     "output_type": "execute_result"
    }
   ],
   "source": [
    "from sklearn.multiclass import OneVsRestClassifier\n",
    "from sklearn.preprocessing import LabelBinarizer\n",
    "from sklearn.svm import SVC\n",
    "X = [[1, 2],\n",
    "     [3, 4],\n",
    "     [4, 5],\n",
    "     [5, 2],\n",
    "     [1, 1]]\n",
    "y = [0, 0, 1, 1, 2]\n",
    "\n",
    "model = OneVsRestClassifier(SVC(gamma = \"scale\", random_state = 0))\n",
    "model.fit(X, y).predict(X)"
   ],
   "metadata": {
    "collapsed": false,
    "ExecuteTime": {
     "end_time": "2023-10-26T20:54:48.234451Z",
     "start_time": "2023-10-26T20:54:48.227410Z"
    }
   }
  },
  {
   "cell_type": "code",
   "execution_count": 15,
   "outputs": [
    {
     "name": "stdout",
     "output_type": "stream",
     "text": [
      "[[1 0 0]\n",
      " [1 0 0]\n",
      " [0 1 0]\n",
      " [0 1 0]\n",
      " [0 0 1]]\n"
     ]
    },
    {
     "data": {
      "text/plain": "array([[0, 0, 0],\n       [0, 0, 0],\n       [0, 1, 0],\n       [0, 1, 0],\n       [0, 0, 0]])"
     },
     "execution_count": 15,
     "metadata": {},
     "output_type": "execute_result"
    }
   ],
   "source": [
    "X = [[1, 2],\n",
    "     [3, 4],\n",
    "     [4, 5],\n",
    "     [5, 2],\n",
    "     [1, 1]]\n",
    "y = [0, 0, 1, 1, 2]\n",
    "y = LabelBinarizer().fit_transform(y) # transfer to one-hot vector\n",
    "print(y)"
   ],
   "metadata": {
    "collapsed": false,
    "ExecuteTime": {
     "end_time": "2023-10-26T20:55:27.725906Z",
     "start_time": "2023-10-26T20:55:27.723224Z"
    }
   }
  },
  {
   "cell_type": "code",
   "execution_count": null,
   "outputs": [],
   "source": [],
   "metadata": {
    "collapsed": false
   }
  }
 ],
 "metadata": {
  "kernelspec": {
   "display_name": "Python 3",
   "language": "python",
   "name": "python3"
  },
  "language_info": {
   "codemirror_mode": {
    "name": "ipython",
    "version": 2
   },
   "file_extension": ".py",
   "mimetype": "text/x-python",
   "name": "python",
   "nbconvert_exporter": "python",
   "pygments_lexer": "ipython2",
   "version": "2.7.6"
  }
 },
 "nbformat": 4,
 "nbformat_minor": 0
}
