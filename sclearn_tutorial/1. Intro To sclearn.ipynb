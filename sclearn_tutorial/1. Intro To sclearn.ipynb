{
 "cells": [
  {
   "cell_type": "markdown",
   "source": [
    "# 1. Introduction to Scikit-Learn"
   ],
   "metadata": {
    "collapsed": false
   }
  },
  {
   "cell_type": "markdown",
   "source": [
    "## sklearn focuses on modeling data and most popular groups of models:\n",
    "### a) Supervised Learning Algorithms\n",
    "### b) Unsupervised Learning Algorithms\n",
    "### c) Clustering\n",
    "### d) Cross Validation\n",
    "### e) Dimensionality Reduction\n",
    "### f) Ensemble Methods\n",
    "### g) Feature Extraction\n",
    "---\n",
    "\n",
    "# Modelling Process\n",
    "\n",
    "### 1. Dataset Loading\n",
    "- Dataset usually has feature matrix and label vector\n",
    "- sklearn has few example datasets like **iris** and **digits** for classification and the **Boston House Price** for regression\n",
    "\n"
   ],
   "metadata": {
    "collapsed": false
   }
  },
  {
   "cell_type": "code",
   "execution_count": 1,
   "metadata": {
    "collapsed": true,
    "ExecuteTime": {
     "end_time": "2023-10-25T17:47:38.987280Z",
     "start_time": "2023-10-25T17:47:36.747820Z"
    }
   },
   "outputs": [
    {
     "name": "stdout",
     "output_type": "stream",
     "text": [
      "Features Name: ['sepal length (cm)', 'sepal width (cm)', 'petal length (cm)', 'petal width (cm)']\n",
      "Targets Name: ['setosa' 'versicolor' 'virginica']\n",
      "First 10 Rows in X:\n",
      " [[5.1 3.5 1.4 0.2]\n",
      " [4.9 3.  1.4 0.2]\n",
      " [4.7 3.2 1.3 0.2]\n",
      " [4.6 3.1 1.5 0.2]\n",
      " [5.  3.6 1.4 0.2]\n",
      " [5.4 3.9 1.7 0.4]\n",
      " [4.6 3.4 1.4 0.3]\n",
      " [5.  3.4 1.5 0.2]\n",
      " [4.4 2.9 1.4 0.2]\n",
      " [4.9 3.1 1.5 0.1]]\n"
     ]
    }
   ],
   "source": [
    "# Iris Dataset\n",
    "from sklearn.datasets import load_iris\n",
    "iris = load_iris()\n",
    "\n",
    "X = iris.data\n",
    "y = iris.target\n",
    "\n",
    "features_name = iris.feature_names\n",
    "target_name = iris.target_names\n",
    "\n",
    "print(\"Features Name:\", features_name)\n",
    "print(\"Targets Name:\", target_name)\n",
    "print(\"First 10 Rows in X:\\n\", X[:10])"
   ]
  },
  {
   "cell_type": "markdown",
   "source": [
    "## Split the dataset\n",
    "- Training : Test = 70 : 30\n",
    "- from sklearn.model_selection import train_test_split\n",
    "- X_train, X_test, y_train, y_test = train_test_split(X, y, test_size = 0.3, random_state = 1)"
   ],
   "metadata": {
    "collapsed": false
   }
  },
  {
   "cell_type": "code",
   "execution_count": 2,
   "outputs": [
    {
     "name": "stdout",
     "output_type": "stream",
     "text": [
      "Train data: (105, 4) Train labels: (105,)\n",
      "Test data: (45, 4) Test labels: (45,)\n"
     ]
    }
   ],
   "source": [
    "from sklearn.model_selection import train_test_split\n",
    "X_train, X_test, y_train, y_test = train_test_split(X, y, test_size = 0.3, random_state = 1)\n",
    "print(\"Train data:\", X_train.shape, \"Train labels:\", y_train.shape)\n",
    "print(\"Test data:\", X_test.shape, \"Test labels:\", y_test.shape)"
   ],
   "metadata": {
    "collapsed": false,
    "ExecuteTime": {
     "end_time": "2023-10-25T17:47:39.181330Z",
     "start_time": "2023-10-25T17:47:38.988575Z"
    }
   }
  },
  {
   "cell_type": "markdown",
   "source": [
    "## Train the Model\n",
    "- Use K Nearest Neighbors classifier"
   ],
   "metadata": {
    "collapsed": false
   }
  },
  {
   "cell_type": "code",
   "execution_count": 3,
   "outputs": [
    {
     "name": "stdout",
     "output_type": "stream",
     "text": [
      "Accuracy: 0.9777777777777777\n"
     ]
    }
   ],
   "source": [
    "from sklearn.neighbors import KNeighborsClassifier\n",
    "from sklearn import metrics\n",
    "\n",
    "knn = KNeighborsClassifier(n_neighbors = 3)\n",
    "knn.fit(X_train, y_train)\n",
    "y_pred = knn.predict(X_test)\n",
    "\n",
    "print(\"Accuracy:\", metrics.accuracy_score(y_test, y_pred))"
   ],
   "metadata": {
    "collapsed": false,
    "ExecuteTime": {
     "end_time": "2023-10-25T17:47:39.454299Z",
     "start_time": "2023-10-25T17:47:39.180905Z"
    }
   }
  },
  {
   "cell_type": "markdown",
   "source": [
    "### Model Persistence\n",
    "- Can be done with **dump** and **load** from **joblib** package\n"
   ],
   "metadata": {
    "collapsed": false
   }
  },
  {
   "cell_type": "code",
   "execution_count": 4,
   "outputs": [],
   "source": [
    "from joblib import dump, load\n",
    "\n",
    "dump(knn, \"knn.joblib\")  # save to\n",
    "model = load(\"knn.joblib\") # read from"
   ],
   "metadata": {
    "collapsed": false,
    "ExecuteTime": {
     "end_time": "2023-10-25T17:47:39.459365Z",
     "start_time": "2023-10-25T17:47:39.455018Z"
    }
   }
  },
  {
   "cell_type": "markdown",
   "source": [
    "### Preprocessing the Data\n",
    "- Package: **sklearn.preprocessing**\n",
    "1. Convert numerical to boolean: **preprocessing.Binarizer(threshold = 2).transform(input_sample)**\n"
   ],
   "metadata": {
    "collapsed": false
   }
  },
  {
   "cell_type": "code",
   "execution_count": 7,
   "outputs": [
    {
     "name": "stdout",
     "output_type": "stream",
     "text": [
      "Binarized Data: [[1. 0. 0.]\n",
      " [1. 1. 0.]]\n"
     ]
    }
   ],
   "source": [
    "import numpy as np\n",
    "from sklearn import preprocessing\n",
    "\n",
    "input_sample = np.array([[2.1, 1.9, -0.5], [3.23, 5.29, 0.36]])\n",
    "binarized = preprocessing.Binarizer(threshold = 2).transform(input_sample)\n",
    "print(\"Binarized Data:\", binarized)"
   ],
   "metadata": {
    "collapsed": false,
    "ExecuteTime": {
     "end_time": "2023-10-25T17:50:06.167585Z",
     "start_time": "2023-10-25T17:50:06.160703Z"
    }
   }
  },
  {
   "cell_type": "markdown",
   "source": [
    "2. Standardization: **data_normalized = preprocessing.scale(input_sample)**"
   ],
   "metadata": {
    "collapsed": false
   }
  },
  {
   "cell_type": "code",
   "execution_count": 12,
   "outputs": [
    {
     "name": "stdout",
     "output_type": "stream",
     "text": [
      "Mean = [ 2.665  3.595 -0.07 ]\n",
      "Std = [0.565 1.695 0.43 ]\n",
      "Mean = [0.00000000e+00 1.66533454e-16 0.00000000e+00]\n",
      "Std = [1. 1. 1.]\n"
     ]
    }
   ],
   "source": [
    "print(\"Mean =\", input_sample.mean(axis = 0)) # each col mean\n",
    "print(\"Std =\", input_sample.std(axis = 0))\n",
    "\n",
    "data_normalized = preprocessing.scale(input_sample)\n",
    "print(\"Mean =\", data_normalized.mean(axis = 0))\n",
    "print(\"Std =\", data_normalized.std(axis = 0))"
   ],
   "metadata": {
    "collapsed": false,
    "ExecuteTime": {
     "end_time": "2023-10-25T17:53:27.240390Z",
     "start_time": "2023-10-25T17:53:27.236397Z"
    }
   }
  },
  {
   "cell_type": "markdown",
   "source": [
    "3. Min-Max Scaling / Normalization: **preprocessing.MinMaxScaler(feature_range = (0, 1)).fit_transform(X)**\n",
    "  (max - min) / (X.max(axis=0) - X.min(axis=0))  ${\\text{default axis = 0}}$"
   ],
   "metadata": {
    "collapsed": false
   }
  },
  {
   "cell_type": "code",
   "execution_count": 23,
   "outputs": [
    {
     "name": "stdout",
     "output_type": "stream",
     "text": [
      "Min-max Scaled: [[0.48648649 0.58252427 0.99122807]\n",
      " [0.         1.         0.81578947]\n",
      " [0.27027027 0.         1.        ]\n",
      " [1.         0.99029126 0.        ]]\n"
     ]
    }
   ],
   "source": [
    "X = np.array([[2.1, -1.9, 5.5], [-1.5, 2.4, 3.5], [0.5, -7.9, 5.6], [5.9, 2.3, -5.8]])\n",
    "min_max_scaled = preprocessing.MinMaxScaler(feature_range = (0, 1)).fit_transform(X)\n",
    "print(\"Min-max Scaled:\", min_max_scaled)"
   ],
   "metadata": {
    "collapsed": false,
    "ExecuteTime": {
     "end_time": "2023-10-25T18:14:03.047852Z",
     "start_time": "2023-10-25T18:14:03.045439Z"
    }
   }
  },
  {
   "cell_type": "markdown",
   "source": [
    "4. Normalization: default axis = 1\n",
    "    a. L1-Norm: **preprocessing.normalize(X, norm = \"l1\")**\n",
    "    b. L2-Norm: **preprocessing.normalize(X, norm = \"l2\")**"
   ],
   "metadata": {
    "collapsed": false
   }
  },
  {
   "cell_type": "code",
   "execution_count": 24,
   "outputs": [
    {
     "name": "stdout",
     "output_type": "stream",
     "text": [
      "L1 Normed: [[ 0.22105263 -0.2         0.57894737]\n",
      " [-0.2027027   0.32432432  0.47297297]\n",
      " [ 0.03571429 -0.56428571  0.4       ]\n",
      " [ 0.42142857  0.16428571 -0.41428571]]\n",
      "L2 Normed: [[ 0.33946114 -0.30713151  0.88906489]\n",
      " [-0.33325106  0.53320169  0.7775858 ]\n",
      " [ 0.05156558 -0.81473612  0.57753446]\n",
      " [ 0.68706914  0.26784051 -0.6754239 ]]\n"
     ]
    }
   ],
   "source": [
    "l1_normed = preprocessing.normalize(X, norm = \"l1\")\n",
    "l2_normed = preprocessing.normalize(X, norm = \"l2\")\n",
    "\n",
    "print(\"L1 Normed:\", l1_normed)\n",
    "print(\"L2 Normed:\", l2_normed)"
   ],
   "metadata": {
    "collapsed": false,
    "ExecuteTime": {
     "end_time": "2023-10-25T20:26:38.881803Z",
     "start_time": "2023-10-25T20:26:38.877380Z"
    }
   }
  },
  {
   "cell_type": "code",
   "execution_count": null,
   "outputs": [],
   "source": [],
   "metadata": {
    "collapsed": false
   }
  }
 ],
 "metadata": {
  "kernelspec": {
   "display_name": "Python 3",
   "language": "python",
   "name": "python3"
  },
  "language_info": {
   "codemirror_mode": {
    "name": "ipython",
    "version": 2
   },
   "file_extension": ".py",
   "mimetype": "text/x-python",
   "name": "python",
   "nbconvert_exporter": "python",
   "pygments_lexer": "ipython2",
   "version": "2.7.6"
  }
 },
 "nbformat": 4,
 "nbformat_minor": 0
}
