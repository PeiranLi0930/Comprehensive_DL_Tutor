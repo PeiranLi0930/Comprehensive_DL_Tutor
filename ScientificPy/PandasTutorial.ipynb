{
 "cells": [
  {
   "cell_type": "markdown",
   "source": [
    "# [Pandas](https://pandas.pydata.org/docs/getting_started/index.html)([Manual](https://pandas.pydata.org/docs/user_guide/index.html))\n",
    " \n",
    "- There are two primary data structure in Pandas: Series and Dataframe\n",
    "\n",
    "## Series\n",
    "- Series combines an index and corresponding data values together\n",
    "- Original designed to work with **time-series data**."
   ],
   "metadata": {
    "collapsed": false
   },
   "id": "6629b2a1aa8daef7"
  },
  {
   "cell_type": "code",
   "execution_count": 1,
   "id": "initial_id",
   "metadata": {
    "collapsed": true,
    "ExecuteTime": {
     "end_time": "2023-12-28T00:18:05.720673Z",
     "start_time": "2023-12-28T00:18:05.281232Z"
    }
   },
   "outputs": [
    {
     "data": {
      "text/plain": "0    1\n1    3\n2    5\n3    7\n4    9\ndtype: int64"
     },
     "execution_count": 1,
     "metadata": {},
     "output_type": "execute_result"
    }
   ],
   "source": [
    "import pandas as pd\n",
    "\n",
    "x = pd.Series(index = range(5), data = [1, 3, 5, 7, 9])\n",
    "x"
   ]
  },
  {
   "cell_type": "code",
   "execution_count": 5,
   "outputs": [
    {
     "data": {
      "text/plain": "(1,\n 2,\n c    3\n c    4\n dtype: int64)"
     },
     "execution_count": 5,
     "metadata": {},
     "output_type": "execute_result"
    }
   ],
   "source": [
    "# Note the duplicated index \"c\"\n",
    "y = pd.Series(index = [\"a\", \"b\", \"c\", \"c\"], data = [1, 2, 3, 4])\n",
    "y.a, y.b, y.c"
   ],
   "metadata": {
    "collapsed": false,
    "ExecuteTime": {
     "end_time": "2023-12-28T00:21:51.533602Z",
     "start_time": "2023-12-28T00:21:51.532091Z"
    }
   },
   "id": "b94a53cc2fed4b04"
  },
  {
   "cell_type": "code",
   "execution_count": 7,
   "outputs": [
    {
     "data": {
      "text/plain": "a    1\nb    2\nc    3\nc    4\ndtype: int64"
     },
     "execution_count": 7,
     "metadata": {},
     "output_type": "execute_result"
    }
   ],
   "source": [
    "# We can also retrieve the data by slicing\n",
    "y.iloc[:4]"
   ],
   "metadata": {
    "collapsed": false,
    "ExecuteTime": {
     "end_time": "2023-12-28T00:23:06.634113Z",
     "start_time": "2023-12-28T00:23:06.620298Z"
    }
   },
   "id": "7e371ec6f32bff9f"
  },
  {
   "cell_type": "markdown",
   "source": [
    "#### Slicing in this way *includes* the endpoints:"
   ],
   "metadata": {
    "collapsed": false
   },
   "id": "ac4c68097d3dded3"
  },
  {
   "cell_type": "code",
   "execution_count": 11,
   "outputs": [
    {
     "data": {
      "text/plain": "(a    1\n b    2\n c    3\n c    4\n dtype: int64,\n a    1\n b    2\n c    3\n c    4\n dtype: int64)"
     },
     "execution_count": 11,
     "metadata": {},
     "output_type": "execute_result"
    }
   ],
   "source": [
    "y.loc[\"a\" : \"c\"], y[\"a\" : \"c\"]  # equal to y.iloc[:4]"
   ],
   "metadata": {
    "collapsed": false,
    "ExecuteTime": {
     "end_time": "2023-12-28T00:25:22.075420Z",
     "start_time": "2023-12-28T00:25:22.072764Z"
    }
   },
   "id": "93282ab78be30951"
  },
  {
   "cell_type": "markdown",
   "source": [
    "### Set Group Rules and Separate into Groups"
   ],
   "metadata": {
    "collapsed": false
   },
   "id": "2d3e1ec3e0b42cf0"
  },
  {
   "cell_type": "code",
   "execution_count": 12,
   "outputs": [
    {
     "data": {
      "text/plain": "1    3\n3    7\ndtype: int64"
     },
     "execution_count": 12,
     "metadata": {},
     "output_type": "execute_result"
    }
   ],
   "source": [
    "x = pd.Series(index = range(5), data = [1, 3, 5, 7, 9])\n",
    "grp = x.groupby(lambda i : i%2) \n",
    "grp.get_group(0) # return the elements with index satisfying i%2 == 0\n",
    "grp.get_group(1) # return the elements with index satisfying i%2 == 1"
   ],
   "metadata": {
    "collapsed": false,
    "ExecuteTime": {
     "end_time": "2023-12-28T00:31:13.165570Z",
     "start_time": "2023-12-28T00:31:13.147831Z"
    }
   },
   "id": "3bcbe578b66a997a"
  },
  {
   "cell_type": "markdown",
   "source": [
    "After get_group(), we now have two separated groups. \n",
    "Now we can perform some operations on these groups"
   ],
   "metadata": {
    "collapsed": false
   },
   "id": "b26170e085e3eb98"
  },
  {
   "cell_type": "code",
   "execution_count": 13,
   "outputs": [
    {
     "data": {
      "text/plain": "0    9\n1    7\ndtype: int64"
     },
     "execution_count": 13,
     "metadata": {},
     "output_type": "execute_result"
    }
   ],
   "source": [
    "grp.max() # get max data in each group. Return value is also a Series object with index [0, 1]"
   ],
   "metadata": {
    "collapsed": false,
    "ExecuteTime": {
     "end_time": "2023-12-28T00:33:52.099462Z",
     "start_time": "2023-12-28T00:33:52.089152Z"
    }
   },
   "id": "a180483b62f162a7"
  },
  {
   "cell_type": "markdown",
   "source": [
    "## Dataframe\n",
    "- is an encapsulation of the Series that extends to 2-dimension\n"
   ],
   "metadata": {
    "collapsed": false
   },
   "id": "ff6749677b667853"
  },
  {
   "cell_type": "code",
   "execution_count": 14,
   "outputs": [
    {
     "data": {
      "text/plain": "   col1  col2\n0     1     2\n1     3     4\n2     5     6\n3     7     8",
      "text/html": "<div>\n<style scoped>\n    .dataframe tbody tr th:only-of-type {\n        vertical-align: middle;\n    }\n\n    .dataframe tbody tr th {\n        vertical-align: top;\n    }\n\n    .dataframe thead th {\n        text-align: right;\n    }\n</style>\n<table border=\"1\" class=\"dataframe\">\n  <thead>\n    <tr style=\"text-align: right;\">\n      <th></th>\n      <th>col1</th>\n      <th>col2</th>\n    </tr>\n  </thead>\n  <tbody>\n    <tr>\n      <th>0</th>\n      <td>1</td>\n      <td>2</td>\n    </tr>\n    <tr>\n      <th>1</th>\n      <td>3</td>\n      <td>4</td>\n    </tr>\n    <tr>\n      <th>2</th>\n      <td>5</td>\n      <td>6</td>\n    </tr>\n    <tr>\n      <th>3</th>\n      <td>7</td>\n      <td>8</td>\n    </tr>\n  </tbody>\n</table>\n</div>"
     },
     "execution_count": 14,
     "metadata": {},
     "output_type": "execute_result"
    }
   ],
   "source": [
    "df = pd.DataFrame({\"col1\" : [1, 3, 5, 7], \"col2\" : [2, 4, 6, 8]})\n",
    "df"
   ],
   "metadata": {
    "collapsed": false,
    "ExecuteTime": {
     "end_time": "2023-12-28T00:36:51.122862Z",
     "start_time": "2023-12-28T00:36:51.108918Z"
    }
   },
   "id": "4f99f4392d779dd3"
  },
  {
   "cell_type": "code",
   "execution_count": 15,
   "outputs": [
    {
     "data": {
      "text/plain": "   col1\n0     1\n1     3",
      "text/html": "<div>\n<style scoped>\n    .dataframe tbody tr th:only-of-type {\n        vertical-align: middle;\n    }\n\n    .dataframe tbody tr th {\n        vertical-align: top;\n    }\n\n    .dataframe thead th {\n        text-align: right;\n    }\n</style>\n<table border=\"1\" class=\"dataframe\">\n  <thead>\n    <tr style=\"text-align: right;\">\n      <th></th>\n      <th>col1</th>\n    </tr>\n  </thead>\n  <tbody>\n    <tr>\n      <th>0</th>\n      <td>1</td>\n    </tr>\n    <tr>\n      <th>1</th>\n      <td>3</td>\n    </tr>\n  </tbody>\n</table>\n</div>"
     },
     "execution_count": 15,
     "metadata": {},
     "output_type": "execute_result"
    }
   ],
   "source": [
    "df.iloc[:2, :1] # get first two lines' first column"
   ],
   "metadata": {
    "collapsed": false,
    "ExecuteTime": {
     "end_time": "2023-12-28T00:38:01.352906Z",
     "start_time": "2023-12-28T00:38:01.337213Z"
    }
   },
   "id": "f149ec9327acb16e"
  },
  {
   "cell_type": "code",
   "execution_count": 16,
   "outputs": [
    {
     "data": {
      "text/plain": "0    1\n1    3\n2    5\n3    7\nName: col1, dtype: int64"
     },
     "execution_count": 16,
     "metadata": {},
     "output_type": "execute_result"
    }
   ],
   "source": [
    "df[\"col1\"] # using the col name"
   ],
   "metadata": {
    "collapsed": false,
    "ExecuteTime": {
     "end_time": "2023-12-28T00:39:02.761272Z",
     "start_time": "2023-12-28T00:39:02.745397Z"
    }
   },
   "id": "37bb98dca75799f0"
  },
  {
   "cell_type": "code",
   "execution_count": 17,
   "outputs": [
    {
     "data": {
      "text/plain": "0    1\n1    3\n2    5\n3    7\nName: col1, dtype: int64"
     },
     "execution_count": 17,
     "metadata": {},
     "output_type": "execute_result"
    }
   ],
   "source": [
    "df.col1"
   ],
   "metadata": {
    "collapsed": false,
    "ExecuteTime": {
     "end_time": "2023-12-28T00:39:17.952008Z",
     "start_time": "2023-12-28T00:39:17.939279Z"
    }
   },
   "id": "c57229c5f1763bcc"
  },
  {
   "cell_type": "code",
   "execution_count": 18,
   "outputs": [
    {
     "data": {
      "text/plain": "col1    16\ncol2    20\ndtype: int64"
     },
     "execution_count": 18,
     "metadata": {},
     "output_type": "execute_result"
    }
   ],
   "source": [
    "df.sum() # operate on each col"
   ],
   "metadata": {
    "collapsed": false,
    "ExecuteTime": {
     "end_time": "2023-12-28T00:40:27.544783Z",
     "start_time": "2023-12-28T00:40:27.526325Z"
    }
   },
   "id": "5e7c591ab4b4deaf"
  },
  {
   "cell_type": "markdown",
   "source": [
    "### Grouping\n",
    "- We can use one col's data as the grouping rules"
   ],
   "metadata": {
    "collapsed": false
   },
   "id": "bc30ed83c7ca24ec"
  },
  {
   "cell_type": "code",
   "execution_count": 19,
   "outputs": [
    {
     "data": {
      "text/plain": "   col1  col2\n2     1     5\n3     1     7",
      "text/html": "<div>\n<style scoped>\n    .dataframe tbody tr th:only-of-type {\n        vertical-align: middle;\n    }\n\n    .dataframe tbody tr th {\n        vertical-align: top;\n    }\n\n    .dataframe thead th {\n        text-align: right;\n    }\n</style>\n<table border=\"1\" class=\"dataframe\">\n  <thead>\n    <tr style=\"text-align: right;\">\n      <th></th>\n      <th>col1</th>\n      <th>col2</th>\n    </tr>\n  </thead>\n  <tbody>\n    <tr>\n      <th>2</th>\n      <td>1</td>\n      <td>5</td>\n    </tr>\n    <tr>\n      <th>3</th>\n      <td>1</td>\n      <td>7</td>\n    </tr>\n  </tbody>\n</table>\n</div>"
     },
     "execution_count": 19,
     "metadata": {},
     "output_type": "execute_result"
    }
   ],
   "source": [
    "df = pd.DataFrame({\"col1\" : [0, 0, 1, 1], \"col2\" : [1, 3, 5, 7]})\n",
    "grp = df.groupby(\"col1\")\n",
    "grp.get_group(0) # get the rows whose col1 == 0\n",
    "grp.get_group(1) # get the rows whose col2 == 1"
   ],
   "metadata": {
    "collapsed": false,
    "ExecuteTime": {
     "end_time": "2023-12-28T00:43:33.590868Z",
     "start_time": "2023-12-28T00:43:33.580336Z"
    }
   },
   "id": "62da87c0a0bb80d"
  },
  {
   "cell_type": "code",
   "execution_count": 20,
   "outputs": [
    {
     "data": {
      "text/plain": "      col2\ncol1      \n0        4\n1       12",
      "text/html": "<div>\n<style scoped>\n    .dataframe tbody tr th:only-of-type {\n        vertical-align: middle;\n    }\n\n    .dataframe tbody tr th {\n        vertical-align: top;\n    }\n\n    .dataframe thead th {\n        text-align: right;\n    }\n</style>\n<table border=\"1\" class=\"dataframe\">\n  <thead>\n    <tr style=\"text-align: right;\">\n      <th></th>\n      <th>col2</th>\n    </tr>\n    <tr>\n      <th>col1</th>\n      <th></th>\n    </tr>\n  </thead>\n  <tbody>\n    <tr>\n      <th>0</th>\n      <td>4</td>\n    </tr>\n    <tr>\n      <th>1</th>\n      <td>12</td>\n    </tr>\n  </tbody>\n</table>\n</div>"
     },
     "execution_count": 20,
     "metadata": {},
     "output_type": "execute_result"
    }
   ],
   "source": [
    "# get sum according to the grouping rules\n",
    "grp.sum()"
   ],
   "metadata": {
    "collapsed": false,
    "ExecuteTime": {
     "end_time": "2023-12-28T00:44:26.438302Z",
     "start_time": "2023-12-28T00:44:26.415470Z"
    }
   },
   "id": "e29787c6df0cb772"
  },
  {
   "cell_type": "markdown",
   "source": [
    "#### Create new cols"
   ],
   "metadata": {
    "collapsed": false
   },
   "id": "5c1cf3e721ce9c9c"
  },
  {
   "cell_type": "code",
   "execution_count": 22,
   "outputs": [
    {
     "data": {
      "text/plain": "   col1  col2  sum\n0     0     1    1\n1     0     3    3\n2     1     5    6\n3     1     7    8",
      "text/html": "<div>\n<style scoped>\n    .dataframe tbody tr th:only-of-type {\n        vertical-align: middle;\n    }\n\n    .dataframe tbody tr th {\n        vertical-align: top;\n    }\n\n    .dataframe thead th {\n        text-align: right;\n    }\n</style>\n<table border=\"1\" class=\"dataframe\">\n  <thead>\n    <tr style=\"text-align: right;\">\n      <th></th>\n      <th>col1</th>\n      <th>col2</th>\n      <th>sum</th>\n    </tr>\n  </thead>\n  <tbody>\n    <tr>\n      <th>0</th>\n      <td>0</td>\n      <td>1</td>\n      <td>1</td>\n    </tr>\n    <tr>\n      <th>1</th>\n      <td>0</td>\n      <td>3</td>\n      <td>3</td>\n    </tr>\n    <tr>\n      <th>2</th>\n      <td>1</td>\n      <td>5</td>\n      <td>6</td>\n    </tr>\n    <tr>\n      <th>3</th>\n      <td>1</td>\n      <td>7</td>\n      <td>8</td>\n    </tr>\n  </tbody>\n</table>\n</div>"
     },
     "execution_count": 22,
     "metadata": {},
     "output_type": "execute_result"
    }
   ],
   "source": [
    "df[\"sum\"] = df.eval(\"col1 + col2\")\n",
    "df"
   ],
   "metadata": {
    "collapsed": false,
    "ExecuteTime": {
     "end_time": "2023-12-28T00:45:59.992926Z",
     "start_time": "2023-12-28T00:45:59.981170Z"
    }
   },
   "id": "d0f42da1bf5f5e3d"
  },
  {
   "cell_type": "markdown",
   "source": [
    "We can group by multiple cols by:"
   ],
   "metadata": {
    "collapsed": false
   },
   "id": "3c9a00c4916b9638"
  },
  {
   "cell_type": "code",
   "execution_count": 23,
   "outputs": [
    {
     "data": {
      "text/plain": "          col2\nsum col1      \n1   0        1\n3   0        3\n6   1        5\n8   1        7",
      "text/html": "<div>\n<style scoped>\n    .dataframe tbody tr th:only-of-type {\n        vertical-align: middle;\n    }\n\n    .dataframe tbody tr th {\n        vertical-align: top;\n    }\n\n    .dataframe thead th {\n        text-align: right;\n    }\n</style>\n<table border=\"1\" class=\"dataframe\">\n  <thead>\n    <tr style=\"text-align: right;\">\n      <th></th>\n      <th></th>\n      <th>col2</th>\n    </tr>\n    <tr>\n      <th>sum</th>\n      <th>col1</th>\n      <th></th>\n    </tr>\n  </thead>\n  <tbody>\n    <tr>\n      <th>1</th>\n      <th>0</th>\n      <td>1</td>\n    </tr>\n    <tr>\n      <th>3</th>\n      <th>0</th>\n      <td>3</td>\n    </tr>\n    <tr>\n      <th>6</th>\n      <th>1</th>\n      <td>5</td>\n    </tr>\n    <tr>\n      <th>8</th>\n      <th>1</th>\n      <td>7</td>\n    </tr>\n  </tbody>\n</table>\n</div>"
     },
     "execution_count": 23,
     "metadata": {},
     "output_type": "execute_result"
    }
   ],
   "source": [
    "grp = df.groupby([\"sum\", \"col1\"])\n",
    "grp.sum()"
   ],
   "metadata": {
    "collapsed": false,
    "ExecuteTime": {
     "end_time": "2023-12-28T00:47:47.915879Z",
     "start_time": "2023-12-28T00:47:47.873989Z"
    }
   },
   "id": "79e8de78a1b09964"
  },
  {
   "cell_type": "markdown",
   "source": [
    "We can also `unstack` the result"
   ],
   "metadata": {
    "collapsed": false
   },
   "id": "51c3848263a2dfbd"
  },
  {
   "cell_type": "code",
   "execution_count": 24,
   "outputs": [
    {
     "data": {
      "text/plain": "     col2     \ncol1    0    1\nsum           \n1     1.0  NaN\n3     3.0  NaN\n6     NaN  5.0\n8     NaN  7.0",
      "text/html": "<div>\n<style scoped>\n    .dataframe tbody tr th:only-of-type {\n        vertical-align: middle;\n    }\n\n    .dataframe tbody tr th {\n        vertical-align: top;\n    }\n\n    .dataframe thead tr th {\n        text-align: left;\n    }\n\n    .dataframe thead tr:last-of-type th {\n        text-align: right;\n    }\n</style>\n<table border=\"1\" class=\"dataframe\">\n  <thead>\n    <tr>\n      <th></th>\n      <th colspan=\"2\" halign=\"left\">col2</th>\n    </tr>\n    <tr>\n      <th>col1</th>\n      <th>0</th>\n      <th>1</th>\n    </tr>\n    <tr>\n      <th>sum</th>\n      <th></th>\n      <th></th>\n    </tr>\n  </thead>\n  <tbody>\n    <tr>\n      <th>1</th>\n      <td>1.0</td>\n      <td>NaN</td>\n    </tr>\n    <tr>\n      <th>3</th>\n      <td>3.0</td>\n      <td>NaN</td>\n    </tr>\n    <tr>\n      <th>6</th>\n      <td>NaN</td>\n      <td>5.0</td>\n    </tr>\n    <tr>\n      <th>8</th>\n      <td>NaN</td>\n      <td>7.0</td>\n    </tr>\n  </tbody>\n</table>\n</div>"
     },
     "execution_count": 24,
     "metadata": {},
     "output_type": "execute_result"
    }
   ],
   "source": [
    "grp.sum().unstack()"
   ],
   "metadata": {
    "collapsed": false,
    "ExecuteTime": {
     "end_time": "2023-12-28T00:50:20.714727Z",
     "start_time": "2023-12-28T00:50:20.689738Z"
    }
   },
   "id": "c7f2a3e0d6d272af"
  },
  {
   "cell_type": "code",
   "execution_count": null,
   "outputs": [],
   "source": [],
   "metadata": {
    "collapsed": false
   },
   "id": "343b895dbfa0a810"
  }
 ],
 "metadata": {
  "kernelspec": {
   "display_name": "Python 3",
   "language": "python",
   "name": "python3"
  },
  "language_info": {
   "codemirror_mode": {
    "name": "ipython",
    "version": 2
   },
   "file_extension": ".py",
   "mimetype": "text/x-python",
   "name": "python",
   "nbconvert_exporter": "python",
   "pygments_lexer": "ipython2",
   "version": "2.7.6"
  }
 },
 "nbformat": 4,
 "nbformat_minor": 5
}
