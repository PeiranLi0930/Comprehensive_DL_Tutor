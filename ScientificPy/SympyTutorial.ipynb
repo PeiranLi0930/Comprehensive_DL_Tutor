{
 "cells": [
  {
   "cell_type": "markdown",
   "source": [
    "# [Sympy](https://www.sympy.org/en/index.html) (Tutorials)[https://docs.sympy.org/latest/tutorials/index.html]\n",
    "- Main computer algebra module in Python\n",
    "- Pure-Python package without platform dependencies\n",
    "\n",
    "---\n",
    "If there is algorithm that Sympy doesn't implement, then **[SAGE](https://www.sagemath.org/)** is the next stop.\n",
    "- Sympy is a specialized build of the Python kernel, which is not a pure-Python solution for computer algebra (not as portable)\n",
    "- SAGE has its own extended syntax"
   ],
   "metadata": {
    "collapsed": false
   },
   "id": "24b03024900324e3"
  },
  {
   "cell_type": "code",
   "execution_count": 1,
   "id": "initial_id",
   "metadata": {
    "collapsed": true,
    "ExecuteTime": {
     "end_time": "2023-12-28T01:03:22.115676Z",
     "start_time": "2023-12-28T01:03:21.663777Z"
    }
   },
   "outputs": [
    {
     "data": {
      "text/plain": "t**2 + t + 1",
      "text/latex": "$\\displaystyle t^{2} + t + 1$"
     },
     "execution_count": 1,
     "metadata": {},
     "output_type": "execute_result"
    }
   ],
   "source": [
    "import numpy as np\n",
    "import sympy as S # might take while\n",
    "\n",
    "# create a Sympy variable\n",
    "x = S.symbols(\"t\")\n",
    "func = sum(x**i for i in range(3))\n",
    "func"
   ]
  },
  {
   "cell_type": "markdown",
   "source": [
    "Let's find the roots of the polynomial (complex root):\n",
    "- **$I$** means the complex number i"
   ],
   "metadata": {
    "collapsed": false
   },
   "id": "5b0495909d88411b"
  },
  {
   "cell_type": "code",
   "execution_count": 2,
   "outputs": [
    {
     "data": {
      "text/plain": "[-1/2 - sqrt(3)*I/2, -1/2 + sqrt(3)*I/2]"
     },
     "execution_count": 2,
     "metadata": {},
     "output_type": "execute_result"
    }
   ],
   "source": [
    "S.solve(func) # func == 0"
   ],
   "metadata": {
    "collapsed": false,
    "ExecuteTime": {
     "end_time": "2023-12-28T01:04:14.101691Z",
     "start_time": "2023-12-28T01:04:13.990633Z"
    }
   },
   "id": "670def015017ee2"
  },
  {
   "cell_type": "markdown",
   "source": [
    "We can also have multiple symbolic element in any expression:\n",
    "$$\\text{Solve: } ax^2 + bx + c = 0$$"
   ],
   "metadata": {
    "collapsed": false
   },
   "id": "d073ac9d8f66b301"
  },
  {
   "cell_type": "code",
   "execution_count": 3,
   "outputs": [
    {
     "data": {
      "text/plain": "[(-b - sqrt(-4*a*c + b**2))/(2*a), (-b + sqrt(-4*a*c + b**2))/(2*a)]"
     },
     "execution_count": 3,
     "metadata": {},
     "output_type": "execute_result"
    }
   ],
   "source": [
    "from sympy.abc import  a, b, c\n",
    "\n",
    "func = a * x ** 2 + b * x + c\n",
    "S.solve(func, x)"
   ],
   "metadata": {
    "collapsed": false,
    "ExecuteTime": {
     "end_time": "2023-12-28T01:11:18.250022Z",
     "start_time": "2023-12-28T01:11:18.170070Z"
    }
   },
   "id": "bc176c75d4ea2dcd"
  },
  {
   "cell_type": "markdown",
   "source": [
    "Complex Expansion:\n",
    "**Note**: Sympy doesn't know whether a symbolic element is a complex number or not\n",
    "\n",
    "$$\n",
    "\\text{Expand to Complex: } e^{ai} = i\\sin a + \\cos a\n",
    "$$"
   ],
   "metadata": {
    "collapsed": false
   },
   "id": "5065ae2815b6612c"
  },
  {
   "cell_type": "code",
   "execution_count": 4,
   "outputs": [
    {
     "data": {
      "text/plain": "I*sin(a) + cos(a)",
      "text/latex": "$\\displaystyle i \\sin{\\left(a \\right)} + \\cos{\\left(a \\right)}$"
     },
     "execution_count": 4,
     "metadata": {},
     "output_type": "execute_result"
    }
   ],
   "source": [
    "a = S.symbols(\"a\", real = True)\n",
    "S.expand_complex(S.exp(S.I * a))"
   ],
   "metadata": {
    "collapsed": false,
    "ExecuteTime": {
     "end_time": "2023-12-28T01:18:08.982524Z",
     "start_time": "2023-12-28T01:18:08.979299Z"
    }
   },
   "id": "29a1449ea67c2206"
  },
  {
   "cell_type": "markdown",
   "source": [
    "Using Sympy to construct complicated expressions that we can evaluate using Numpy later:\n"
   ],
   "metadata": {
    "collapsed": false
   },
   "id": "c4a38abcf492bb69"
  },
  {
   "cell_type": "code",
   "execution_count": 5,
   "outputs": [
    {
     "data": {
      "text/plain": "0.020033467208545055"
     },
     "execution_count": 5,
     "metadata": {},
     "output_type": "execute_result"
    }
   ],
   "source": [
    "y = S.tan(x) * x + x ** 2\n",
    "yf = S.lambdify(x, y, \"numpy\") # the function should use Numpy for numerical computations.\n",
    "\n",
    "y.subs(x, 0.1) # x = 0.1, get y by Sympy\n",
    "yf(0.1) # x = 0.1, get y by Numpy"
   ],
   "metadata": {
    "collapsed": false,
    "ExecuteTime": {
     "end_time": "2023-12-28T07:15:37.282383Z",
     "start_time": "2023-12-28T07:15:36.371783Z"
    }
   },
   "id": "27abdcfd668e18ef"
  },
  {
   "cell_type": "markdown",
   "source": [
    "After creating the Numpy function, we can use Numpy arrays as input:"
   ],
   "metadata": {
    "collapsed": false
   },
   "id": "caca145d21b797ff"
  },
  {
   "cell_type": "code",
   "execution_count": 7,
   "outputs": [
    {
     "data": {
      "text/plain": "array([ 0.        ,  2.55740772, -0.37007973])"
     },
     "execution_count": 7,
     "metadata": {},
     "output_type": "execute_result"
    }
   ],
   "source": [
    "import numpy as np\n",
    "yf(np.arange(3))"
   ],
   "metadata": {
    "collapsed": false,
    "ExecuteTime": {
     "end_time": "2023-12-28T07:16:41.252092Z",
     "start_time": "2023-12-28T07:16:41.247360Z"
    }
   },
   "id": "349b70d7f1a7cb7c"
  },
  {
   "cell_type": "code",
   "execution_count": 10,
   "outputs": [
    {
     "data": {
      "text/plain": "[0, 2.55740772465490, -0.370079726523038]"
     },
     "execution_count": 10,
     "metadata": {},
     "output_type": "execute_result"
    }
   ],
   "source": [
    "# Sympy needs extra works\n",
    "[y.subs(x, i).evalf() for i in range(3)]"
   ],
   "metadata": {
    "collapsed": false,
    "ExecuteTime": {
     "end_time": "2023-12-28T07:17:43.685713Z",
     "start_time": "2023-12-28T07:17:43.663731Z"
    }
   },
   "id": "87b4a9eb3e3bc17e"
  },
  {
   "cell_type": "code",
   "execution_count": null,
   "outputs": [],
   "source": [],
   "metadata": {
    "collapsed": false
   },
   "id": "2d4269d2415d25c0"
  }
 ],
 "metadata": {
  "kernelspec": {
   "display_name": "Python 3",
   "language": "python",
   "name": "python3"
  },
  "language_info": {
   "codemirror_mode": {
    "name": "ipython",
    "version": 2
   },
   "file_extension": ".py",
   "mimetype": "text/x-python",
   "name": "python",
   "nbconvert_exporter": "python",
   "pygments_lexer": "ipython2",
   "version": "2.7.6"
  }
 },
 "nbformat": 4,
 "nbformat_minor": 5
}
