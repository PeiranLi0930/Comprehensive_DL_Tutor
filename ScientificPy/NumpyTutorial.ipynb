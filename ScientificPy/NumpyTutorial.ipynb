{
 "cells": [
  {
   "cell_type": "markdown",
   "source": [
    "# Keys to Python\n",
    "-  Python doesn't use compiler so it doesn't have programmable access to hardware optimization\n",
    "    - Compiler's access to the details of the underlying platform which means it can utilize optimizations that exploit chip-specific features and cache memory. \n",
    "-  it provides the software **glue** that permits easy exchange of methods and data across core routines typically written in Fortran or C.\n",
    "- Python is an interpreted language. This means that Python codes run on a Python virtual machine that provides a layer of abstraction between the code and the platform it runs on, thus making codes portable across different platforms.\n",
    "\n",
    "# Numpy \n",
    "- Numpy is the de facto standard for numerical arrays in Python. "
   ],
   "metadata": {
    "collapsed": false
   },
   "id": "204f63b936c58103"
  },
  {
   "cell_type": "code",
   "execution_count": 1,
   "id": "initial_id",
   "metadata": {
    "collapsed": true,
    "ExecuteTime": {
     "end_time": "2023-12-25T14:47:18.294150Z",
     "start_time": "2023-12-25T14:47:18.146130Z"
    }
   },
   "outputs": [
    {
     "data": {
      "text/plain": "4"
     },
     "execution_count": 1,
     "metadata": {},
     "output_type": "execute_result"
    }
   ],
   "source": [
    "import numpy as np \n",
    "\n",
    "x = np.array([1, 2, 4], dtype = np.float32)\n",
    "x.itemsize # 4 bytes per float32 number"
   ]
  },
  {
   "cell_type": "markdown",
   "source": [
    "## ufuncs (Comprehensive Set of Universal Functions)\n",
    "\n",
    "### Arithmetic Operations\n",
    "- Addition `np.add(a, b)`\n",
    "- Subtraction `np.subtract(a, b)`\n",
    "- Multiplication `np.multiply(a, b)` (element-wise)\n",
    "- Division `np.divide(a, b)`\n",
    "### Trigonometric Functions\n",
    "- Sine `np.sin(x)`\n",
    "- Cosine `np.cos(x)`\n",
    "- Tangent `np.tan(x)`\n",
    "### Hyperbolic Functions\n",
    "- sinh `np.sinh(x)`\n",
    "- cosh `np.cosh(x)`\n",
    "### Exponential and Logarithmic Functions\n",
    "- Exponential `np.exp(x)`\n",
    "- Natural Algorithm `np.log(x)`\n",
    "- Base-10 Log `np.log10(x)`\n",
    "\n",
    "### Aggregate Functions \n",
    "#### these perform operations over an entire array or specific axes\n",
    "- Sum `np.sum(x)`\n",
    "- Mean `np.mean(x)`\n",
    "- Standard Deviation `np.std(x)`\n",
    "- Minimum `np.min(x)` and Maximum `np.max(x)`\n",
    "\n",
    "### Comparison Functions\n",
    "- `np.greater([2, 3, 4], [1, 3, 2])  # Output: array([ True, False,  True])`\n",
    "- `np.equal([2, 3, 4], [1, 3, 2])  # Output: array([False,  True, False])`\n",
    "\n",
    "### Bitwise Functions\n",
    "- Bitwise AND `np.bitwise_and(x, y)`\n",
    "- Bitwise OR `np.bitwise_or(x, y)`\n",
    "- Bitwise XOR `np.bitwise_xor(x, y)`\n",
    "- Bitwise NOT `np.bitwise_not(x)`\n",
    "\n",
    "### Absolute Value\n",
    "- Absolute Value `np.abs(x)`"
   ],
   "metadata": {
    "collapsed": false
   },
   "id": "42fb72351dc565c1"
  },
  {
   "cell_type": "code",
   "execution_count": 2,
   "outputs": [
    {
     "data": {
      "text/plain": "array([ 0.841471 ,  0.9092974, -0.7568025], dtype=float32)"
     },
     "execution_count": 2,
     "metadata": {},
     "output_type": "execute_result"
    }
   ],
   "source": [
    "np.sin(x) # faster than math.sin, no explicit for loop"
   ],
   "metadata": {
    "collapsed": false,
    "ExecuteTime": {
     "end_time": "2023-12-25T14:47:18.300283Z",
     "start_time": "2023-12-25T14:47:18.292091Z"
    }
   },
   "id": "5612006b78aeb5a2"
  },
  {
   "cell_type": "markdown",
   "source": [
    "### NP is limited to 32 dimensions unless we build it for more."
   ],
   "metadata": {
    "collapsed": false
   },
   "id": "b156409b471afbb"
  },
  {
   "cell_type": "code",
   "execution_count": 3,
   "outputs": [
    {
     "name": "stdout",
     "output_type": "stream",
     "text": [
      "Shape: (2, 3) First Row: [1 2 3] First Col: [1 4]\n",
      "All Rows but stride = 2: \n",
      "[[1 3]\n",
      " [4 6]]\n",
      "Reverse Rows \n",
      "[[4 5 6]\n",
      " [1 2 3]]\n",
      "Reverse Cols \n",
      "[[3 2 1]\n",
      " [6 5 4]]\n"
     ]
    }
   ],
   "source": [
    "x = np.array([[1, 2, 3], [4, 5, 6]])\n",
    "print(f\"Shape: {x.shape} First Row: {x[0]} First Col: {x[:, 0]}\")\n",
    "print(f\"All Rows but stride = 2: \\n{x[:, ::2]}\")\n",
    "print(f\"Reverse Rows \\n{x[::-1]}\")\n",
    "print(f\"Reverse Cols \\n{x[:, ::-1]}\")"
   ],
   "metadata": {
    "collapsed": false,
    "ExecuteTime": {
     "end_time": "2023-12-25T14:47:18.301364Z",
     "start_time": "2023-12-25T14:47:18.299245Z"
    }
   },
   "id": "274408efb58b95a4"
  },
  {
   "cell_type": "markdown",
   "source": [
    "### Numpy uses pass-by-reference semantics\n",
    "- Slice operation are **views** into the array without implicitly copying \n",
    "\n",
    "#### Cases Creating Copies\n",
    "1. Using a list or a similar sequence type (but not a tuple) for indexing"
   ],
   "metadata": {
    "collapsed": false
   },
   "id": "6742fd5b1afd0346"
  },
  {
   "cell_type": "code",
   "execution_count": 13,
   "outputs": [
    {
     "data": {
      "text/plain": "array([1, 3, 5])"
     },
     "execution_count": 13,
     "metadata": {},
     "output_type": "execute_result"
    }
   ],
   "source": [
    "arr = np.array([1, 2, 3, 4, 5])\n",
    "indices = [0, 2, 4]  # non-tuple sequence\n",
    "new_arr = arr[indices]\n",
    "new_arr"
   ],
   "metadata": {
    "collapsed": false,
    "ExecuteTime": {
     "end_time": "2023-12-25T14:47:33.580186Z",
     "start_time": "2023-12-25T14:47:33.571864Z"
    }
   },
   "id": "3cafbee32d2d4180"
  },
  {
   "cell_type": "markdown",
   "source": [
    "2. **Use another NumPy array**, which can be either of integer indices or boolean values, for indexing."
   ],
   "metadata": {
    "collapsed": false
   },
   "id": "b599e9183f11538c"
  },
  {
   "cell_type": "code",
   "execution_count": 5,
   "outputs": [
    {
     "name": "stdout",
     "output_type": "stream",
     "text": [
      "By int nparr:[1 3 5]\n",
      "By boolean nparr:[1 3 5]\n"
     ]
    }
   ],
   "source": [
    "index_arr = np.array([0, 2, 4])\n",
    "boolean_idx = np.array([True, False, True, False, True])\n",
    "\n",
    "arr_by_int_np = arr[index_arr]\n",
    "print(f\"By int nparr:{arr_by_int_np}\")\n",
    "arr_by_bool = arr[boolean_idx]\n",
    "print(f\"By boolean nparr:{arr_by_bool}\")"
   ],
   "metadata": {
    "collapsed": false,
    "ExecuteTime": {
     "end_time": "2023-12-25T14:47:18.417504Z",
     "start_time": "2023-12-25T14:47:18.308646Z"
    }
   },
   "id": "a1a5d4a006b00066"
  },
  {
   "cell_type": "markdown",
   "source": [
    "3. If you use a tuple for indexing, and **this tuple contains either a sequence (like a list) or a NumPy array**, it also results in a copy."
   ],
   "metadata": {
    "collapsed": false
   },
   "id": "c91306e9f637c0e1"
  },
  {
   "cell_type": "code",
   "execution_count": 6,
   "outputs": [
    {
     "name": "stdout",
     "output_type": "stream",
     "text": [
      "[2 6 4]\n"
     ]
    }
   ],
   "source": [
    "arr_2d = np.array([[1, 2], [3, 4], [5, 6]])\n",
    "# Selecting the elements at (0, 1), (2, 1), (1, 1)\n",
    "indices = ([0, 2, 1], [1, 1, 1])  # Tuple with two lists\n",
    "new_arr = arr_2d[indices]\n",
    "print(new_arr)"
   ],
   "metadata": {
    "collapsed": false,
    "ExecuteTime": {
     "end_time": "2023-12-25T14:47:18.430706Z",
     "start_time": "2023-12-25T14:47:18.313380Z"
    }
   },
   "id": "2379d790dcfa784e"
  },
  {
   "cell_type": "markdown",
   "source": [
    "#### We construct y by slicing (which is a view), then any change will affect y\n",
    "#### ```x.copy()``` explicitly force a copy \n",
    "#### ```y.flags``` sort this out"
   ],
   "metadata": {
    "collapsed": false
   },
   "id": "8dbe111acaa1c562"
  },
  {
   "cell_type": "code",
   "execution_count": 14,
   "outputs": [
    {
     "name": "stdout",
     "output_type": "stream",
     "text": [
      "original y : \n",
      "[[1. 1.]\n",
      " [1. 1.]]\n",
      "Then we make a change to x\n",
      "y after change x: \n",
      "[[999.   1.]\n",
      " [  1.   1.]]\n",
      "y.flags: \n",
      "  C_CONTIGUOUS : False\n",
      "  F_CONTIGUOUS : False\n",
      "  OWNDATA : False\n",
      "  WRITEABLE : True\n",
      "  ALIGNED : True\n",
      "  WRITEBACKIFCOPY : False\n"
     ]
    }
   ],
   "source": [
    "x = np.ones((3, 3))\n",
    "y = x[:2, :2]\n",
    "print(f\"original y : \\n{y}\\nThen we make a change to x\")\n",
    "x[0, 0] = 999\n",
    "print(f\"y after change x: \\n{y}\\ny.flags: \\n{y.flags}\")"
   ],
   "metadata": {
    "collapsed": false,
    "ExecuteTime": {
     "end_time": "2023-12-25T14:50:49.423626Z",
     "start_time": "2023-12-25T14:50:49.422158Z"
    }
   },
   "id": "2865a870ad0e14c2"
  },
  {
   "cell_type": "code",
   "execution_count": 8,
   "outputs": [
    {
     "data": {
      "text/plain": "  C_CONTIGUOUS : True\n  F_CONTIGUOUS : False\n  OWNDATA : True\n  WRITEABLE : True\n  ALIGNED : True\n  WRITEBACKIFCOPY : False"
     },
     "execution_count": 8,
     "metadata": {},
     "output_type": "execute_result"
    }
   ],
   "source": [
    "y = x.copy()\n",
    "y.flags"
   ],
   "metadata": {
    "collapsed": false,
    "ExecuteTime": {
     "end_time": "2023-12-25T14:47:18.431468Z",
     "start_time": "2023-12-25T14:47:18.322332Z"
    }
   },
   "id": "8ed2988cb73b25f1"
  },
  {
   "cell_type": "markdown",
   "source": [
    "### Overlapping Blocks (using view. NOT a copy)\n",
    "\n",
    "Bear in mind that ```as_strided``` **DOESN't** check that you stay within memory block bounds. \n",
    "So, if the size of the target matrix is not filled by the available data, the **remaining elements will come from whatever bytes are at that memory location**."
   ],
   "metadata": {
    "collapsed": false
   },
   "id": "ebd3da1e4996f02b"
  },
  {
   "cell_type": "code",
   "execution_count": 9,
   "outputs": [
    {
     "name": "stdout",
     "output_type": "stream",
     "text": [
      "x : [ 0  1  2  3  4  5  6  7  8  9 10 11 12 13 14 15]\n"
     ]
    },
    {
     "data": {
      "text/plain": "array([[ 0,  1,  2,  3],\n       [ 2,  3,  4,  5],\n       [ 4,  5,  6,  7],\n       [ 6,  7,  8,  9],\n       [ 8,  9, 10, 11],\n       [10, 11, 12, 13],\n       [12, 13, 14, 15]])"
     },
     "execution_count": 9,
     "metadata": {},
     "output_type": "execute_result"
    }
   ],
   "source": [
    "from numpy.lib.stride_tricks import as_strided\n",
    "x = np.arange(16, dtype = np.int64) # one int is 8-byte\n",
    "print(f\"x : {x}\")\n",
    "\n",
    "# (7, 4) stands for Shape\n",
    "# (16, 8) stands for strides which means the resulting arr steps 8 bytes in the cols, and steps 16 bytes in the rows\n",
    "y = as_strided(x, (7, 4), (16, 8))\n",
    "y"
   ],
   "metadata": {
    "collapsed": false,
    "ExecuteTime": {
     "end_time": "2023-12-25T14:47:18.431574Z",
     "start_time": "2023-12-25T14:47:18.328834Z"
    }
   },
   "id": "df364bd68e8f6dec"
  },
  {
   "cell_type": "markdown",
   "source": [
    "\n",
    "#### Multiplication Operation ```A@x``` or ```A.dot(x)```"
   ],
   "metadata": {
    "collapsed": false
   },
   "id": "4e473d34bcfa4312"
  },
  {
   "cell_type": "code",
   "execution_count": 10,
   "outputs": [
    {
     "data": {
      "text/plain": "array([1, 3, 6])"
     },
     "execution_count": 10,
     "metadata": {},
     "output_type": "execute_result"
    }
   ],
   "source": [
    "A = np.array([[1, 2, 3, 4], [3, 4, 5, 6], [6, 7, 8, 9]])\n",
    "x = np.array([1, 0, 0, 0])\n",
    "A@x\n",
    "A.dot(x)"
   ],
   "metadata": {
    "collapsed": false,
    "ExecuteTime": {
     "end_time": "2023-12-25T14:47:18.431656Z",
     "start_time": "2023-12-25T14:47:18.333971Z"
    }
   },
   "id": "b5915f6f3e1b3dcc"
  },
  {
   "cell_type": "markdown",
   "source": [
    "### Boardcasting\n",
    "\n",
    "#### ```None``` tells Numpy to make copies of y along this dimension to create a conformable calculation."
   ],
   "metadata": {
    "collapsed": false
   },
   "id": "eeeddf4386cdd710"
  },
  {
   "cell_type": "code",
   "execution_count": 11,
   "outputs": [
    {
     "name": "stdout",
     "output_type": "stream",
     "text": [
      "x + y: \n",
      "[[0 1]\n",
      " [1 2]\n",
      " [2 3]]\n",
      "Add one dimension to y and add one dim to x\n"
     ]
    },
    {
     "data": {
      "text/plain": "(array([[0, 1],\n        [1, 2],\n        [2, 3]]),\n array([[0, 1, 2],\n        [1, 2, 3]]))"
     },
     "execution_count": 11,
     "metadata": {},
     "output_type": "execute_result"
    }
   ],
   "source": [
    "x = np.array([0, 1])\n",
    "y = np.array([0, 1, 2]).reshape([-1, 1])\n",
    "print(f\"x + y: \\n{x + y}\")\n",
    "\n",
    "x = np.array([0, 1])\n",
    "y = np.array([0, 1, 2])\n",
    "print(\"Add one dimension to y and add one dim to x\")\n",
    "x + y[:, None], x[:, None] + y"
   ],
   "metadata": {
    "collapsed": false,
    "ExecuteTime": {
     "end_time": "2023-12-25T14:47:18.431764Z",
     "start_time": "2023-12-25T14:47:18.338909Z"
    }
   },
   "id": "e22cf92bb27bf690"
  },
  {
   "cell_type": "code",
   "execution_count": 12,
   "outputs": [
    {
     "data": {
      "text/plain": "array([[[0, 1],\n        [1, 2],\n        [2, 3]],\n\n       [[1, 2],\n        [2, 3],\n        [3, 4]],\n\n       [[2, 3],\n        [3, 4],\n        [4, 5]],\n\n       [[3, 4],\n        [4, 5],\n        [5, 6]]])"
     },
     "execution_count": 12,
     "metadata": {},
     "output_type": "execute_result"
    }
   ],
   "source": [
    "z = np.array([0, 1, 2, 3])\n",
    "x + y[:, None] + z[:, None, None]"
   ],
   "metadata": {
    "collapsed": false,
    "ExecuteTime": {
     "end_time": "2023-12-25T14:47:18.431840Z",
     "start_time": "2023-12-25T14:47:18.342902Z"
    }
   },
   "id": "afdf7a608794b50f"
  },
  {
   "cell_type": "markdown",
   "source": [
    "# Numpy Masked Arrays\n",
    "\n"
   ],
   "metadata": {
    "collapsed": false
   },
   "id": "694c155e8fe2e930"
  },
  {
   "cell_type": "code",
   "execution_count": 26,
   "outputs": [
    {
     "data": {
      "text/plain": "masked_array(data=[--, --, --, --, --, 5, 6, 7, 8, 9],\n             mask=[ True,  True,  True,  True,  True, False, False, False,\n                   False, False],\n       fill_value=999999)"
     },
     "execution_count": 26,
     "metadata": {},
     "output_type": "execute_result"
    }
   ],
   "source": [
    "from numpy import ma\n",
    "\n",
    "x = np.arange(10)\n",
    "y = ma.masked_array(x, x < 5)  # y is also a view but not a copy.\n",
    "y"
   ],
   "metadata": {
    "collapsed": false,
    "ExecuteTime": {
     "end_time": "2023-12-25T15:16:07.312960Z",
     "start_time": "2023-12-25T15:16:07.306872Z"
    }
   },
   "id": "e3cb83c3f07c29d4"
  },
  {
   "cell_type": "code",
   "execution_count": 27,
   "outputs": [
    {
     "data": {
      "text/plain": "array([  0,   1,   2,   3,   4,   5,   6,   7,   8, 999])"
     },
     "execution_count": 27,
     "metadata": {},
     "output_type": "execute_result"
    }
   ],
   "source": [
    "y[-1] = 999\n",
    "x"
   ],
   "metadata": {
    "collapsed": false,
    "ExecuteTime": {
     "end_time": "2023-12-25T15:16:24.513101Z",
     "start_time": "2023-12-25T15:16:24.486926Z"
    }
   },
   "id": "da0b39e28afbc0f2"
  },
  {
   "cell_type": "markdown",
   "source": [
    "# Floating - Point Numbers\n",
    "## IEEE 754 Standard \n",
    "- **Sign bit**: This is the first bit and is used to represent the sign of the number. If the sign bit is 0, the number is positive; if the sign bit is 1, the number is negative.\n",
    "\n",
    "- **Exponent bits**: The following bits represent the exponent. The number of bits used for the exponent depends on the precision of the floating-point representation (single precision, double precision, etc.). \n",
    "    - For single precision (32-bit), 8 bits are used for the exponent. For double precision (64-bit), 11 bits are used. \n",
    "    - The exponent is stored in \"biased\" form, meaning that **a bias is subtracted to get the actual exponent**. **For single precision, the bias is 127, and for double precision, it's 1023.**\n",
    "\n",
    "- **Significand (Mantissa) bits**: The remaining bits are used for the significand. This is the fraction part of the number, **following a leading 1** (except for numbers very close to 0, known as subnormal numbers). In single precision, 23 bits are used for the significand, while in double precision, 52 bits are used.\n",
    "\n",
    "---\n",
    "\n",
    "To convert a decimal number to its binary IEEE 754 representation, follow these steps:\n",
    "\n",
    "1. Determine the sign bit from the sign of the number.\n",
    "2. Convert the absolute value of the number to binary form.\n",
    "3. Normalize the binary number so that it's in the form of 1.xxxx... and find the binary exponent.\n",
    "4. Adjust the exponent by the bias and convert it to binary.\n",
    "5. Write down the sign bit, followed by the biased exponent bits, followed by the significand bits (without the leading 1).\n",
    "\n",
    "---\n",
    "\n",
    "Here's an example of converting the decimal number 0.375 to binary using IEEE 754 32-bit format:\n",
    "\n",
    "1. The number is positive, so the sign bit is 0.\n",
    "2. 0.375 in binary is 0.011 (because 0.375 = 1/4 + 1/8 = 2^-2 + 2^-3).\n",
    "3. The normalized form is 1.1 x 2^-2, so the significand is 1.1.\n",
    "4. For single precision, the exponent bias is 127. Our exponent is -2, so the biased exponent is 127 - 2 = 125, which is 01111101 in binary.\n",
    "5. The significand (mantissa) without the leading 1 is .1 (in binary), which needs to be represented with 23 bits after the point, so it's 10000000000000000000000.\n",
    "\n",
    "So the IEEE 754 32-bit binary representation of 0.375 is `0 01111101 10000000000000000000000`"
   ],
   "metadata": {
    "collapsed": false
   },
   "id": "82422c4de454c810"
  },
  {
   "cell_type": "code",
   "execution_count": 28,
   "outputs": [
    {
     "data": {
      "text/plain": "0.30000000000000004"
     },
     "execution_count": 28,
     "metadata": {},
     "output_type": "execute_result"
    }
   ],
   "source": [
    ".1+.2"
   ],
   "metadata": {
    "collapsed": false,
    "ExecuteTime": {
     "end_time": "2023-12-25T22:49:21.477191Z",
     "start_time": "2023-12-25T22:49:21.474345Z"
    }
   },
   "id": "2556f9904585cb86"
  },
  {
   "cell_type": "markdown",
   "source": [
    "Let's express 0.1 as binary: $\\approx 1.6 \\times 2 ^{-4}$"
   ],
   "metadata": {
    "collapsed": false
   },
   "id": "256d259dabc9ba8"
  },
  {
   "cell_type": "code",
   "execution_count": 43,
   "outputs": [
    {
     "name": "stdout",
     "output_type": "stream",
     "text": [
      "0001100110011001100110011001100110011001100110011001101\n"
     ]
    }
   ],
   "source": [
    "a = 0.1\n",
    "bits = []\n",
    "while a > 0:\n",
    "    q, a = divmod(a * 2, 1)\n",
    "    bits.append(q)\n",
    "\n",
    "print(\"\".join([\"%d\"%i for i in bits]))"
   ],
   "metadata": {
    "collapsed": false,
    "ExecuteTime": {
     "end_time": "2023-12-25T23:26:24.898200Z",
     "start_time": "2023-12-25T23:26:24.895797Z"
    }
   },
   "id": "2cdbd19d9eeb4b6a"
  },
  {
   "cell_type": "markdown",
   "source": [
    "Also $0.2 \\approx 1.6 \\times 2^{-3}$ "
   ],
   "metadata": {
    "collapsed": false
   },
   "id": "679a1a040ee6687"
  },
  {
   "cell_type": "code",
   "execution_count": 44,
   "outputs": [
    {
     "name": "stdout",
     "output_type": "stream",
     "text": [
      "001100110011001100110011001100110011001100110011001101\n"
     ]
    }
   ],
   "source": [
    "a = 0.2\n",
    "bits = []\n",
    "while a > 0:\n",
    "    q, a = divmod(a * 2, 1)\n",
    "    bits.append(q)\n",
    "\n",
    "print(\"\".join([\"%d\"%i for i in bits]))"
   ],
   "metadata": {
    "collapsed": false,
    "ExecuteTime": {
     "end_time": "2023-12-25T23:27:04.732682Z",
     "start_time": "2023-12-25T23:27:04.729801Z"
    }
   },
   "id": "66352e4c12b43c20"
  },
  {
   "cell_type": "markdown",
   "source": [
    "We only have 23 bits for the fractional parts so we need to **round off at 23 bits**.\n",
    "Therefore, $0.1\\approx (1.10011001100110011001101)_2 \\times 2 ^{-4}$\n",
    "This is the reason why decimal fraction calculation is not precise !\n",
    "\n",
    "---\n",
    "\n",
    "### Principle: Round to Nearest, Ties to Even\n",
    "1. Round to Nearest:\n",
    "- If the bit after the last representable bit (the one that we can't store, often called the \"rounding bit\") is 0, we do nothing; the value stays the same.\n",
    "- If the rounding bit is 1 and any following bits are 1 (meaning the actual value is more than halfway to the next representable number), we round up by adding 1 to the last representable bit.\n",
    "2. Ties to Even:\n",
    "\n",
    "- If the rounding bit is 1 but all bits after it are 0 (it's exactly halfway between two representable numbers), we look at the last representable bit. If it's already even (0), we do nothing; if it's odd (1), we round up to make it even.\n"
   ],
   "metadata": {
    "collapsed": false
   },
   "id": "26b94c5ba073887a"
  },
  {
   "cell_type": "markdown",
   "source": [
    "### For most practical purposes, these tiny errors are not significant. However, when exact decimal representation is needed, such as in financial calculations, you can use the decimal module.\n"
   ],
   "metadata": {
    "collapsed": false
   },
   "id": "47b156962f54f6a2"
  },
  {
   "cell_type": "code",
   "execution_count": 45,
   "outputs": [
    {
     "name": "stdout",
     "output_type": "stream",
     "text": [
      "0.3\n"
     ]
    }
   ],
   "source": [
    "from decimal import Decimal\n",
    "print(Decimal(\".1\") + Decimal(\".2\"))"
   ],
   "metadata": {
    "collapsed": false,
    "ExecuteTime": {
     "end_time": "2023-12-25T23:32:32.522065Z",
     "start_time": "2023-12-25T23:32:32.508916Z"
    }
   },
   "id": "c93c6f338a1acc8b"
  },
  {
   "cell_type": "markdown",
   "source": [
    "## Roundoff Error\n",
    "\n",
    "100,000,000: 0 10011001 (153) 01111101011110000100000 \n",
    "10: 0 10000010(130) 01000000000000000000000\n",
    "Then we need to do Exponent Alignment: 23 = 153 - 130, which means 1.01000000000000000000000 should shift right 23 bits. \n",
    "then we have 01111101011110000100000 0000 + 00000000000000000000000 1010 =  01111101011110000100000 1010\n",
    "\n",
    "According to Round to Nearest, Ties to Even: finally we have 01111101011110000100001"
   ],
   "metadata": {
    "collapsed": false
   },
   "id": "faf86656b6d26fbf"
  },
  {
   "cell_type": "code",
   "execution_count": 46,
   "outputs": [
    {
     "name": "stdout",
     "output_type": "stream",
     "text": [
      "100000008.000\n"
     ]
    }
   ],
   "source": [
    "print(format(np.float32(100000000) + np.float32(10),'10.3f'))"
   ],
   "metadata": {
    "collapsed": false,
    "ExecuteTime": {
     "end_time": "2023-12-25T23:36:18.772527Z",
     "start_time": "2023-12-25T23:36:18.751825Z"
    }
   },
   "id": "be38c4479dec7184"
  },
  {
   "cell_type": "markdown",
   "source": [
    "**Kahan summation algorithm `math.fsum()` can effectively solve this roundoff errors.**"
   ],
   "metadata": {
    "collapsed": false
   },
   "id": "5f841ef6c9bbd733"
  },
  {
   "cell_type": "code",
   "execution_count": 48,
   "outputs": [
    {
     "data": {
      "text/plain": "100000010.0"
     },
     "execution_count": 48,
     "metadata": {},
     "output_type": "execute_result"
    }
   ],
   "source": [
    "import math\n",
    "math.fsum([np.float32(100000000), np.float32(10)])"
   ],
   "metadata": {
    "collapsed": false,
    "ExecuteTime": {
     "end_time": "2023-12-26T07:49:22.508233Z",
     "start_time": "2023-12-26T07:49:22.497424Z"
    }
   },
   "id": "1da881d5486f3597"
  },
  {
   "cell_type": "markdown",
   "source": [
    "## Cancellation Error\n",
    "- When two nearly equal floating point numbers are subtracted. \n",
    "\n",
    "0.1111112 = 0 01111011(123) 11000111000111001000101\n",
    "0.1111111 = 0 01111011(123) 11000111000111000110111\n",
    "```\n",
    "  Significand of 0.1111112: 1.11000111000111001000101\n",
    "- Significand of 0.1111111: 1.11000111000111000110111\n",
    "-------------------------------------------------\n",
    "  Resulting Significand:    0.00000000000000000001110\n",
    "``` \n",
    "Then we need to left shift 20-bit to get 1.11\n",
    "\n",
    "the original exp = -4 then we need to let exp - 20 = -24 as the result exponent\n",
    "\n",
    "-24 = 103 - 127, so the exponent bits are 01100111\n",
    "\n",
    "Finally, we get 0 0110011 111000000000000000000000 $\\approx$ 1.04308128357e-07\n"
   ],
   "metadata": {
    "collapsed": false
   },
   "id": "d8ba0eab4bd5b81b"
  },
  {
   "cell_type": "code",
   "execution_count": 50,
   "outputs": [
    {
     "name": "stdout",
     "output_type": "stream",
     "text": [
      "0.00000010430812836\n"
     ]
    }
   ],
   "source": [
    "print(format(np.float32(0.1111112) - np.float32(0.1111111), \"1.17f\"))"
   ],
   "metadata": {
    "collapsed": false,
    "ExecuteTime": {
     "end_time": "2023-12-26T07:53:07.696175Z",
     "start_time": "2023-12-26T07:53:07.689820Z"
    }
   },
   "id": "affeaffeeb6b968d"
  },
  {
   "cell_type": "markdown",
   "source": [
    "# Solution to Errors\n",
    "- When using floating point, we must check for approximate equality using `allclose` instead of `==`\n",
    "\n",
    "`rtol`: relative tolerance \n",
    "`atol`: absolute tolerance\n",
    "\n",
    "$$|a - b| \\le (\\text{atol} + \\text{rtol} * |b|)$$ is True, then `np.allclose` returns True"
   ],
   "metadata": {
    "collapsed": false
   },
   "id": "6a8df86f379698ea"
  },
  {
   "cell_type": "code",
   "execution_count": 53,
   "outputs": [
    {
     "name": "stdout",
     "output_type": "stream",
     "text": [
      "a == b\n"
     ]
    }
   ],
   "source": [
    "import numpy as np \n",
    "a = np.float32(0.15 + 0.15)\n",
    "b = np.float32(0.1 + 0.2)\n",
    "\n",
    "if np.allclose(a, b, rtol = 1e-05, atol = 1e-08):\n",
    "    print(\"a == b\")\n",
    "else:\n",
    "    print(\"a != b\")"
   ],
   "metadata": {
    "collapsed": false,
    "ExecuteTime": {
     "end_time": "2023-12-27T04:24:01.172417Z",
     "start_time": "2023-12-27T04:24:01.169022Z"
    }
   },
   "id": "4cf063b71345e6af"
  },
  {
   "cell_type": "code",
   "execution_count": null,
   "outputs": [],
   "source": [],
   "metadata": {
    "collapsed": false
   },
   "id": "88dfd0078f9fe9f1"
  }
 ],
 "metadata": {
  "kernelspec": {
   "display_name": "Python 3",
   "language": "python",
   "name": "python3"
  },
  "language_info": {
   "codemirror_mode": {
    "name": "ipython",
    "version": 2
   },
   "file_extension": ".py",
   "mimetype": "text/x-python",
   "name": "python",
   "nbconvert_exporter": "python",
   "pygments_lexer": "ipython2",
   "version": "2.7.6"
  }
 },
 "nbformat": 4,
 "nbformat_minor": 5
}
