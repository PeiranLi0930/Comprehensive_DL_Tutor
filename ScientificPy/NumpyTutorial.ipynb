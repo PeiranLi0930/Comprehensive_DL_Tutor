{
 "cells": [
  {
   "cell_type": "code",
   "execution_count": 1,
   "id": "initial_id",
   "metadata": {
    "collapsed": true,
    "ExecuteTime": {
     "end_time": "2023-11-26T05:54:53.418614Z",
     "start_time": "2023-11-26T05:54:53.298514Z"
    }
   },
   "outputs": [
    {
     "data": {
      "text/plain": "4"
     },
     "execution_count": 1,
     "metadata": {},
     "output_type": "execute_result"
    }
   ],
   "source": [
    "import numpy as np \n",
    "\n",
    "x = np.array([1, 2, 4], dtype = np.float32)\n",
    "x.itemsize # 4 bytes per float number"
   ]
  },
  {
   "cell_type": "code",
   "execution_count": 2,
   "outputs": [
    {
     "data": {
      "text/plain": "array([ 0.841471 ,  0.9092974, -0.7568025], dtype=float32)"
     },
     "execution_count": 2,
     "metadata": {},
     "output_type": "execute_result"
    }
   ],
   "source": [
    "np.sin(x) # faster than math.sin, no explicit for loop"
   ],
   "metadata": {
    "collapsed": false,
    "ExecuteTime": {
     "end_time": "2023-11-26T05:56:15.472634Z",
     "start_time": "2023-11-26T05:56:15.469781Z"
    }
   },
   "id": "5612006b78aeb5a2"
  },
  {
   "cell_type": "markdown",
   "source": [
    "### NP is limited to 32 dimensions unless we build it for more."
   ],
   "metadata": {
    "collapsed": false
   },
   "id": "b156409b471afbb"
  },
  {
   "cell_type": "code",
   "execution_count": 13,
   "outputs": [
    {
     "name": "stdout",
     "output_type": "stream",
     "text": [
      "Shape: (2, 3) First Row: [1 2 3] First Col: [1 4]\n",
      "All Rows but stride = 2: \n",
      "[[1 3]\n",
      " [4 6]]\n",
      "Reverse Rows \n",
      "[[4 5 6]\n",
      " [1 2 3]]\n",
      "Reverse Cols \n",
      "[[3 2 1]\n",
      " [6 5 4]]\n"
     ]
    }
   ],
   "source": [
    "x = np.array([[1, 2, 3], [4, 5, 6]])\n",
    "print(f\"Shape: {x.shape} First Row: {x[0]} First Col: {x[:, 0]}\")\n",
    "print(f\"All Rows but stride = 2: \\n{x[:, ::2]}\")\n",
    "print(f\"Reverse Rows \\n{x[::-1]}\")\n",
    "print(f\"Reverse Cols \\n{x[:, ::-1]}\")"
   ],
   "metadata": {
    "collapsed": false,
    "ExecuteTime": {
     "end_time": "2023-11-26T06:07:12.145111Z",
     "start_time": "2023-11-26T06:07:12.144211Z"
    }
   },
   "id": "274408efb58b95a4"
  },
  {
   "cell_type": "markdown",
   "source": [
    "### Numpy uses pass-by-reference semantics\n",
    "- Slice operation are **views** into the array without implicitly copying \n",
    "\n",
    "#### Cases Creating Copies\n",
    "1. Using a list or a similar sequence type (but not a tuple) for indexing"
   ],
   "metadata": {
    "collapsed": false
   },
   "id": "6742fd5b1afd0346"
  },
  {
   "cell_type": "code",
   "execution_count": 15,
   "outputs": [],
   "source": [
    "arr = np.array([1, 2, 3, 4, 5])\n",
    "indices = [0, 2, 4]  # non-tuple sequence\n",
    "new_arr = arr[indices]"
   ],
   "metadata": {
    "collapsed": false,
    "ExecuteTime": {
     "end_time": "2023-11-26T06:21:09.052875Z",
     "start_time": "2023-11-26T06:21:09.047293Z"
    }
   },
   "id": "3cafbee32d2d4180"
  },
  {
   "cell_type": "markdown",
   "source": [
    "2. Use another NumPy array, which can be either of integer indices or boolean values, for indexing."
   ],
   "metadata": {
    "collapsed": false
   },
   "id": "b599e9183f11538c"
  },
  {
   "cell_type": "code",
   "execution_count": 16,
   "outputs": [
    {
     "name": "stdout",
     "output_type": "stream",
     "text": [
      "By int nparr:[1 3 5]\n",
      "By boolean nparr:[1 3 5]\n"
     ]
    }
   ],
   "source": [
    "index_arr = np.array([0, 2, 4])\n",
    "boolean_idx = np.array([True, False, True, False, True])\n",
    "\n",
    "arr_by_int_np = arr[index_arr]\n",
    "print(f\"By int nparr:{arr_by_int_np}\")\n",
    "arr_by_bool = arr[boolean_idx]\n",
    "print(f\"By boolean nparr:{arr_by_bool}\")"
   ],
   "metadata": {
    "collapsed": false,
    "ExecuteTime": {
     "end_time": "2023-11-26T06:21:10.649982Z",
     "start_time": "2023-11-26T06:21:10.647134Z"
    }
   },
   "id": "a1a5d4a006b00066"
  },
  {
   "cell_type": "markdown",
   "source": [
    "3. If you use a tuple for indexing, and **this tuple contains either a sequence (like a list) or a NumPy array**, it also results in a copy."
   ],
   "metadata": {
    "collapsed": false
   },
   "id": "c91306e9f637c0e1"
  },
  {
   "cell_type": "code",
   "execution_count": 20,
   "outputs": [
    {
     "name": "stdout",
     "output_type": "stream",
     "text": [
      "[2 6 4]\n"
     ]
    }
   ],
   "source": [
    "arr_2d = np.array([[1, 2], [3, 4], [5, 6]])\n",
    "# Selecting the elements at (0, 1), (2, 1), (1, 1)\n",
    "indices = ([0, 2, 1], [1, 1, 1])  # Tuple with two lists\n",
    "new_arr = arr_2d[indices]\n",
    "print(new_arr)"
   ],
   "metadata": {
    "collapsed": false,
    "ExecuteTime": {
     "end_time": "2023-11-26T06:24:39.663760Z",
     "start_time": "2023-11-26T06:24:39.660271Z"
    }
   },
   "id": "2379d790dcfa784e"
  },
  {
   "cell_type": "markdown",
   "source": [
    "#### We construct y by slicing (which is a view), then any change will affect y\n",
    "#### ```x.copy()``` explicitly force a copy \n",
    "#### ```y.flags``` sort this out"
   ],
   "metadata": {
    "collapsed": false
   },
   "id": "8dbe111acaa1c562"
  },
  {
   "cell_type": "code",
   "execution_count": 26,
   "outputs": [
    {
     "name": "stdout",
     "output_type": "stream",
     "text": [
      "original y : \n",
      "[[1. 1.]\n",
      " [1. 1.]]\n",
      "Then we make a change to x\n"
     ]
    },
    {
     "data": {
      "text/plain": "array([[999.,   1.],\n       [  1.,   1.]])"
     },
     "execution_count": 26,
     "metadata": {},
     "output_type": "execute_result"
    }
   ],
   "source": [
    "x = np.ones((3, 3))\n",
    "y = x[:2, :2]\n",
    "print(f\"original y : \\n{y}\\nThen we make a change to x\")\n",
    "x[0, 0] = 999\n",
    "y"
   ],
   "metadata": {
    "collapsed": false,
    "ExecuteTime": {
     "end_time": "2023-11-26T06:31:46.466876Z",
     "start_time": "2023-11-26T06:31:46.464874Z"
    }
   },
   "id": "2865a870ad0e14c2"
  },
  {
   "cell_type": "markdown",
   "source": [],
   "metadata": {
    "collapsed": false
   },
   "id": "b4f7801320717e48"
  },
  {
   "cell_type": "code",
   "execution_count": 27,
   "outputs": [
    {
     "data": {
      "text/plain": "  C_CONTIGUOUS : True\n  F_CONTIGUOUS : False\n  OWNDATA : True\n  WRITEABLE : True\n  ALIGNED : True\n  WRITEBACKIFCOPY : False"
     },
     "execution_count": 27,
     "metadata": {},
     "output_type": "execute_result"
    }
   ],
   "source": [
    "y = x.copy()\n",
    "y.flags"
   ],
   "metadata": {
    "collapsed": false,
    "ExecuteTime": {
     "end_time": "2023-11-26T06:31:59.725869Z",
     "start_time": "2023-11-26T06:31:59.724276Z"
    }
   },
   "id": "8ed2988cb73b25f1"
  },
  {
   "cell_type": "markdown",
   "source": [
    "### Overlapping Blocks (using view. NOT a copy)\n",
    "\n",
    "Bear in mind that ```as_strided``` **DOESN't** check that you stay within memory block bounds. \n",
    "So, if the size of the target matrix is not filled by the available data, the **remaining elements will come from whatever bytes are at that memory location**."
   ],
   "metadata": {
    "collapsed": false
   },
   "id": "ebd3da1e4996f02b"
  },
  {
   "cell_type": "code",
   "execution_count": 28,
   "outputs": [
    {
     "name": "stdout",
     "output_type": "stream",
     "text": [
      "x : [ 0  1  2  3  4  5  6  7  8  9 10 11 12 13 14 15]\n"
     ]
    },
    {
     "data": {
      "text/plain": "array([[ 0,  1,  2,  3],\n       [ 2,  3,  4,  5],\n       [ 4,  5,  6,  7],\n       [ 6,  7,  8,  9],\n       [ 8,  9, 10, 11],\n       [10, 11, 12, 13],\n       [12, 13, 14, 15]])"
     },
     "execution_count": 28,
     "metadata": {},
     "output_type": "execute_result"
    }
   ],
   "source": [
    "from numpy.lib.stride_tricks import as_strided\n",
    "x = np.arange(16, dtype = np.int64) # one int is 8-byte\n",
    "print(f\"x : {x}\")\n",
    "\n",
    "# (7, 4) stands for Shape\n",
    "# (16, 8) stands for strides which means the resulting arr steps 8 bytes in the cols, and steps 16 bytes in the rows\n",
    "y = as_strided(x, (7, 4), (16, 8))\n",
    "y"
   ],
   "metadata": {
    "collapsed": false,
    "ExecuteTime": {
     "end_time": "2023-11-26T06:40:09.593334Z",
     "start_time": "2023-11-26T06:40:09.585744Z"
    }
   },
   "id": "df364bd68e8f6dec"
  },
  {
   "cell_type": "markdown",
   "source": [
    "\n",
    "#### Multiplication Operation ```A@x``` or ```A.dot(x)```"
   ],
   "metadata": {
    "collapsed": false
   },
   "id": "4e473d34bcfa4312"
  },
  {
   "cell_type": "code",
   "execution_count": 32,
   "outputs": [
    {
     "data": {
      "text/plain": "array([1, 3, 6])"
     },
     "execution_count": 32,
     "metadata": {},
     "output_type": "execute_result"
    }
   ],
   "source": [
    "A = np.array([[1, 2, 3, 4], [3, 4, 5, 6], [6, 7, 8, 9]])\n",
    "x = np.array([1, 0, 0, 0])\n",
    "A@x\n",
    "A.dot(x)"
   ],
   "metadata": {
    "collapsed": false,
    "ExecuteTime": {
     "end_time": "2023-11-26T06:52:02.941075Z",
     "start_time": "2023-11-26T06:52:02.940174Z"
    }
   },
   "id": "b5915f6f3e1b3dcc"
  },
  {
   "cell_type": "markdown",
   "source": [
    "### Boardcasting\n",
    "\n",
    "#### ```None``` tells Numpy to make copies of y along this dimension to create a conformable calculation."
   ],
   "metadata": {
    "collapsed": false
   },
   "id": "eeeddf4386cdd710"
  },
  {
   "cell_type": "code",
   "execution_count": 39,
   "outputs": [
    {
     "name": "stdout",
     "output_type": "stream",
     "text": [
      "x + y: \n",
      "[[0 1]\n",
      " [1 2]\n",
      " [2 3]]\n"
     ]
    },
    {
     "data": {
      "text/plain": "(array([[0, 1],\n        [1, 2],\n        [2, 3]]),\n array([[0, 1, 2],\n        [1, 2, 3]]))"
     },
     "execution_count": 39,
     "metadata": {},
     "output_type": "execute_result"
    }
   ],
   "source": [
    "x = np.array([0, 1])\n",
    "y = np.array([0, 1, 2]).reshape([-1, 1])\n",
    "print(f\"x + y: \\n{x + y}\")\n",
    "\n",
    "x = np.array([0, 1])\n",
    "y = np.array([0, 1, 2])\n",
    "print(\"Add one dimension to y and add one dim to x\")\n",
    "x + y[:, None], x[:, None] + y"
   ],
   "metadata": {
    "collapsed": false,
    "ExecuteTime": {
     "end_time": "2023-11-26T07:04:11.704878Z",
     "start_time": "2023-11-26T07:04:11.703020Z"
    }
   },
   "id": "e22cf92bb27bf690"
  },
  {
   "cell_type": "code",
   "execution_count": 47,
   "outputs": [
    {
     "data": {
      "text/plain": "array([[[0, 1],\n        [1, 2],\n        [2, 3]],\n\n       [[1, 2],\n        [2, 3],\n        [3, 4]],\n\n       [[2, 3],\n        [3, 4],\n        [4, 5]],\n\n       [[3, 4],\n        [4, 5],\n        [5, 6]]])"
     },
     "execution_count": 47,
     "metadata": {},
     "output_type": "execute_result"
    }
   ],
   "source": [
    "z = np.array([0, 1, 2, 3])\n",
    "x + y[:, None] + z[:, None, None]"
   ],
   "metadata": {
    "collapsed": false,
    "ExecuteTime": {
     "end_time": "2023-11-26T07:18:00.515575Z",
     "start_time": "2023-11-26T07:18:00.508923Z"
    }
   },
   "id": "afdf7a608794b50f"
  },
  {
   "cell_type": "code",
   "execution_count": null,
   "outputs": [],
   "source": [],
   "metadata": {
    "collapsed": false
   },
   "id": "ca177b90ad4270f"
  }
 ],
 "metadata": {
  "kernelspec": {
   "display_name": "Python 3",
   "language": "python",
   "name": "python3"
  },
  "language_info": {
   "codemirror_mode": {
    "name": "ipython",
    "version": 2
   },
   "file_extension": ".py",
   "mimetype": "text/x-python",
   "name": "python",
   "nbconvert_exporter": "python",
   "pygments_lexer": "ipython2",
   "version": "2.7.6"
  }
 },
 "nbformat": 4,
 "nbformat_minor": 5
}
