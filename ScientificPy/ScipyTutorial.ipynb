{
 "cells": [
  {
   "cell_type": "markdown",
   "source": [
    "# Scipy\n",
    "- the first consolidated module for a wide range of compiled libraries, all based on Numpy arrays\n",
    "- includes numerous special functions (e.g., Airy, Bessel, elliptical) as well as powerful numerical quadrature routines via the QUADPACK Fortran library (see **scipy.integrate**), where you will also find other quadrature methods.\n",
    "- **scipy.stats**: provides lots of statistical functions, including random number generators, a wide variety of probability functions\n",
    "- **scipy.optimize**: provides methods for root-finding, minimization and maximization problems, with and without higher-order derivatives.\n",
    "- **scipy.interpolate**: provides methods for interpolation in the FITPACK Fortran package.\n",
    "- **scikit-learn**: for machine learning\n",
    "- **scikit-image**: for image processing"
   ],
   "metadata": {
    "collapsed": false
   },
   "id": "e7bc456350e40b3f"
  },
  {
   "cell_type": "code",
   "execution_count": null,
   "id": "initial_id",
   "metadata": {
    "collapsed": true
   },
   "outputs": [],
   "source": []
  }
 ],
 "metadata": {
  "kernelspec": {
   "display_name": "Python 3",
   "language": "python",
   "name": "python3"
  },
  "language_info": {
   "codemirror_mode": {
    "name": "ipython",
    "version": 2
   },
   "file_extension": ".py",
   "mimetype": "text/x-python",
   "name": "python",
   "nbconvert_exporter": "python",
   "pygments_lexer": "ipython2",
   "version": "2.7.6"
  }
 },
 "nbformat": 4,
 "nbformat_minor": 5
}
