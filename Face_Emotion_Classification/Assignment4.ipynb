{
 "cells": [
  {
   "cell_type": "code",
   "execution_count": 22,
   "id": "5a23f196",
   "metadata": {},
   "outputs": [],
   "source": [
    "# import libraries\n",
    "import numpy as np \n",
    "from scipy.io import loadmat\n",
    "import matplotlib.pyplot as plt\n",
    "from numpy.linalg import matrix_rank\n",
    "from numpy.linalg import inv\n",
    "from numpy.linalg import norm"
   ]
  },
  {
   "cell_type": "code",
   "execution_count": 2,
   "id": "dcd26d67",
   "metadata": {},
   "outputs": [
    {
     "name": "stdout",
     "output_type": "stream",
     "text": [
      "['__header__', '__version__', '__globals__', 'y', 'X']\n"
     ]
    }
   ],
   "source": [
    "data = loadmat(\"face_emotion_data.mat\")\n",
    "print([key for key in data])"
   ]
  },
  {
   "cell_type": "code",
   "execution_count": 20,
   "id": "35a1cea7",
   "metadata": {},
   "outputs": [
    {
     "data": {
      "text/plain": [
       "array([[ 0.94366942],\n",
       "       [ 0.21373778],\n",
       "       [ 0.26641775],\n",
       "       [-0.39221373],\n",
       "       [-0.00538552],\n",
       "       [-0.01764687],\n",
       "       [-0.16632809],\n",
       "       [-0.0822838 ],\n",
       "       [-0.16644364]])"
      ]
     },
     "execution_count": 20,
     "metadata": {},
     "output_type": "execute_result"
    }
   ],
   "source": [
    "face_matrix = data['X']\n",
    "label_vec = data['y']\n",
    "\n",
    "np.shape(face_matrix) # get the shape (128, 9)\n",
    "matrix_rank(face_matrix) # get the rank(face_matrix) = 9\n",
    "\n",
    "# so the face_matrix is full rank then the inverse of A^TA exist\n",
    "\n",
    "# get the classifier weights \n",
    "w = inv(face_matrix.transpose() @ face_matrix) @ face_matrix.transpose() @ label_vec\n",
    "w"
   ]
  },
  {
   "cell_type": "code",
   "execution_count": 15,
   "id": "a1a752f0",
   "metadata": {},
   "outputs": [
    {
     "data": {
      "text/plain": [
       "(128, 1)"
      ]
     },
     "execution_count": 15,
     "metadata": {},
     "output_type": "execute_result"
    }
   ],
   "source": [
    "np.shape(label_vec)"
   ]
  },
  {
   "cell_type": "code",
   "execution_count": 36,
   "id": "eca190ea",
   "metadata": {},
   "outputs": [
    {
     "name": "stdout",
     "output_type": "stream",
     "text": [
      "11.313708498984763\n",
      "11.313708498984763\n",
      "original: 12.060498275867596\n",
      "0 column vector changed, the minimal value is: 7.950503332657295\n",
      "The absolute value of the difference between this value and the original solution is 4.109994943210301\n",
      "1 column vector changed, the minimal value is: 4.997434793801424\n",
      "The absolute value of the difference between this value and the original solution is 7.063063482066172\n",
      "2 column vector changed, the minimal value is: 5.018933019731187\n",
      "The absolute value of the difference between this value and the original solution is 7.041565256136409\n",
      "3 column vector changed, the minimal value is: 5.041292237038698\n",
      "The absolute value of the difference between this value and the original solution is 7.019206038828898\n",
      "4 column vector changed, the minimal value is: 4.980798737214211\n",
      "The absolute value of the difference between this value and the original solution is 7.079699538653386\n",
      "5 column vector changed, the minimal value is: 4.981755420792947\n",
      "The absolute value of the difference between this value and the original solution is 7.078742855074649\n",
      "6 column vector changed, the minimal value is: 5.064788283164934\n",
      "The absolute value of the difference between this value and the original solution is 6.995709992702662\n",
      "7 column vector changed, the minimal value is: 5.004014540827253\n",
      "The absolute value of the difference between this value and the original solution is 7.056483735040343\n",
      "8 column vector changed, the minimal value is: 5.149465186679638\n",
      "The absolute value of the difference between this value and the original solution is 6.911033089187958\n",
      "The most important vector is x 5 The differences between it and the original solution is: 7.079699538653386\n"
     ]
    }
   ],
   "source": [
    "# each colomn of train set has been normalized, and its norm is 11.313708498984763\n",
    "print(norm(face_matrix[:, 0]))\n",
    "print(norm(face_matrix[:, 1]))\n",
    "\n",
    "copied_matrix = np.copy(face_matrix)\n",
    "copied_matrix\n",
    "\n",
    "# calculate the least squared probrom value with original face_matrix\n",
    "original_min = norm ((face_matrix @ w) - label_vec)\n",
    "print(\"original:\", original_min)\n",
    "\n",
    "# index for making a unit vector\n",
    "index = 1/np.sqrt(128)\n",
    "copied_matrix[:, 0] = index\n",
    "copied_matrix \n",
    "max_value = 0 # initialized maximal differences \n",
    "j = 0 # the index of the maximal differences \n",
    "\n",
    "# substitute norm vector for x1...x9 respectively\n",
    "for i in range(9):\n",
    "    copied_matrix = np.copy(face_matrix)\n",
    "    copied_matrix[:, i] = index\n",
    "    w = inv(copied_matrix.transpose() @ copied_matrix) @ copied_matrix.transpose() @ label_vec\n",
    "    substituted_min = norm((copied_matrix @ w) - label_vec)\n",
    "    print(i, \"column vector changed, the minimal value is:\", substituted_min)\n",
    "    print(\"The absolute value of the difference between this value and the original solution is\", np.absolute(substituted_min - original_min))\n",
    "    if (np.absolute(substituted_min - original_min) > max_value):\n",
    "        max_value = np.absolute(substituted_min - original_min)\n",
    "        j = i\n",
    "\n",
    "print(\"The most important vector is x\", j+1, \"The differences between it and the original solution is:\",  max_value)\n",
    "\n"
   ]
  },
  {
   "cell_type": "code",
   "execution_count": 37,
   "id": "38fc02f0",
   "metadata": {},
   "outputs": [
    {
     "name": "stdout",
     "output_type": "stream",
     "text": [
      "0 column vector changed, the minimal value is: 7.950503332657295\n",
      "The absolute value of the difference between this value and the original solution is 4.109994943210301\n",
      "1 column vector changed, the minimal value is: 4.997434793801424\n",
      "The absolute value of the difference between this value and the original solution is 7.063063482066172\n",
      "2 column vector changed, the minimal value is: 5.018933019731187\n",
      "The absolute value of the difference between this value and the original solution is 7.041565256136409\n",
      "3 column vector changed, the minimal value is: 5.041292237038698\n",
      "The absolute value of the difference between this value and the original solution is 7.019206038828898\n",
      "4 column vector changed, the minimal value is: 4.980798737214211\n",
      "The absolute value of the difference between this value and the original solution is 7.079699538653386\n",
      "5 column vector changed, the minimal value is: 4.981755420792947\n",
      "The absolute value of the difference between this value and the original solution is 7.078742855074649\n",
      "6 column vector changed, the minimal value is: 5.064788283164934\n",
      "The absolute value of the difference between this value and the original solution is 6.995709992702662\n",
      "7 column vector changed, the minimal value is: 5.004014540827253\n",
      "The absolute value of the difference between this value and the original solution is 7.056483735040343\n",
      "8 column vector changed, the minimal value is: 5.149465186679638\n",
      "The absolute value of the difference between this value and the original solution is 6.911033089187958\n"
     ]
    }
   ],
   "source": [
    "for i in range(9):\n",
    "    copied_matrix = np.copy(face_matrix)\n",
    "    copied_matrix[:, i] = index\n",
    "    w = inv(copied_matrix.transpose() @ copied_matrix) @ copied_matrix.transpose() @ label_vec\n",
    "    substituted_min = norm((copied_matrix @ w) - label_vec)\n",
    "    print(i, \"column vector changed, the minimal value is:\", substituted_min)\n",
    "    print(\"The absolute value of the difference between this value and the original solution is\", np.absolute(substituted_min - original_min))"
   ]
  },
  {
   "cell_type": "code",
   "execution_count": 71,
   "id": "c20e88b4",
   "metadata": {},
   "outputs": [
    {
     "name": "stdout",
     "output_type": "stream",
     "text": [
      "Errors: 4\n",
      "Error Proportion: 0.06 %\n"
     ]
    }
   ],
   "source": [
    "# 50% data to train, 50% data to verify, we need to promise the randomness when we choose the data set\n",
    "from sklearn.model_selection import train_test_split\n",
    "# split the train set and validation set\n",
    "x_train, x_eval, y_train, y_eval = train_test_split(face_matrix, label_vec, test_size = 0.5)\n",
    "\n",
    "# classifier 1: use 9 paras \n",
    "w_opt = inv(x_train.transpose() @ x_train) @ x_train.transpose() @ y_train\n",
    "# cross validation\n",
    "y_hat = np.sign(x_eval @ w_opt)\n",
    "# error calculation\n",
    "error_vec = [0 if i[0]==i[1] else 1 for i in np.hstack((y_hat, y_eval))]\n",
    "print(\"Errors:\", sum(error_vec))\n",
    "print(\"Error Proportion: %4.2f\" % (sum(error_vec)/64), \"%\")"
   ]
  },
  {
   "cell_type": "code",
   "execution_count": 78,
   "id": "b9004e36",
   "metadata": {},
   "outputs": [
    {
     "name": "stdout",
     "output_type": "stream",
     "text": [
      "Errors: 4\n",
      "Error Proportion: 0.08 %\n"
     ]
    }
   ],
   "source": [
    "# We just use para w_1, w_7, w_9 to train the model\n",
    "x_train_x1 = np.ones((64,1))\n",
    "x_train_x1[:, 0] = x_train[:, 0] \n",
    "\n",
    "x_train_x7 = np.ones((64, 1))\n",
    "x_train_x7[:, 0] = x_train[:, 6]\n",
    "\n",
    "x_train_x9 = np.ones((64, 1))\n",
    "x_train_x9[:, 0] = x_train[:, 8]\n",
    "\n",
    "x_train_3_para =np.concatenate((x_train_x1, x_train_x7, x_train_x9), axis = 1)\n",
    "\n",
    "x_eval_x1 = np.ones((64,1))\n",
    "x_eval_x1[:, 0] = x_eval[:, 0] \n",
    "\n",
    "x_eval_x7 = np.ones((64,1))\n",
    "x_eval_x7[:, 0] = x_eval[:, 6] \n",
    "\n",
    "x_eval_x9 = np.ones((64,1))\n",
    "x_eval_x9[:, 0] = x_eval[:, 8] \n",
    "x_eval_3_para = np.concatenate((x_eval_x1, x_eval_x7, x_eval_x9), axis = 1)\n",
    "\n",
    "\n",
    "# classifier 2: use 3 paras\n",
    "w_opt = inv(x_train_3_para.transpose() @ x_train_3_para) @ x_train_3_para.transpose() @ y_train\n",
    "\n",
    "# cross validation \n",
    "y_hat = np.sign(x_eval_3_para @ w_opt)\n",
    "\n",
    "# error calculation\n",
    "error_vec = [0 if i[0]==i[1] else 1 for i in np.hstack((y_hat, y_eval))]\n",
    "print(\"Errors:\", sum(error_vec))\n",
    "print(\"Error Proportion: %4.2f\" % (sum(error_vec)/50), \"%\")\n"
   ]
  },
  {
   "cell_type": "code",
   "execution_count": 94,
   "id": "d2fd85a6",
   "metadata": {},
   "outputs": [
    {
     "name": "stdout",
     "output_type": "stream",
     "text": [
      "The 1 Cross Validation's Results:\n",
      "Errors: 6\n",
      "Error Proportion: 0.09 %\n",
      "============================================================\n",
      "The 2 Cross Validation's Results:\n",
      "Errors: 4\n",
      "Error Proportion: 0.06 %\n",
      "============================================================\n",
      "The 3 Cross Validation's Results:\n",
      "Errors: 7\n",
      "Error Proportion: 0.11 %\n",
      "============================================================\n",
      "The 4 Cross Validation's Results:\n",
      "Errors: 5\n",
      "Error Proportion: 0.08 %\n",
      "============================================================\n",
      "The 5 Cross Validation's Results:\n",
      "Errors: 0\n",
      "Error Proportion: 0.00 %\n",
      "============================================================\n",
      "The 6 Cross Validation's Results:\n",
      "Errors: 2\n",
      "Error Proportion: 0.03 %\n",
      "============================================================\n",
      "The 7 Cross Validation's Results:\n",
      "Errors: 2\n",
      "Error Proportion: 0.03 %\n",
      "============================================================\n",
      "The 8 Cross Validation's Results:\n",
      "Errors: 7\n",
      "Error Proportion: 0.11 %\n",
      "============================================================\n"
     ]
    }
   ],
   "source": [
    "for i in range(8):\n",
    "    # seperate validation set and training set\n",
    "    extracted_eval_data = face_matrix[16 * i : 16 * (i + 1), :]\n",
    "    extracted_eval_label = label_vec[16 * i : 16 * (i + 1), :]\n",
    "    remaining_train_data = np.delete(face_matrix, np.s_[16*i : 16*(i+1)], axis = 0)\n",
    "    remaining_train_label = np.delete(face_matrix, np.s_[16*i : 16*(i+1)], axis = 0)\n",
    "    \n",
    "    # calculate the solution to least squared problem\n",
    "    w_opt = inv(remaining_train_data.transpose() @ remaining_train_data) @ remaining_train_data.transpose() @ remaining_train_label\n",
    "    # prediction\n",
    "    y_hat = np.sign(extracted_eval_data @ w_opt)\n",
    "    \n",
    "    # Validation\n",
    "    error_vec = [0 if i[0]==i[1] else 1 for i in np.hstack((y_hat, extracted_eval_label))]\n",
    "    print(\"The\", i+1, \"Cross Validation's Results:\")\n",
    "    print(\"Errors:\", sum(error_vec))\n",
    "    print(\"Error Proportion: %4.2f\" % (sum(error_vec)/64), \"%\")\n",
    "    print(\"=\" * 60)\n",
    "    \n"
   ]
  },
  {
   "cell_type": "code",
   "execution_count": 88,
   "id": "369d0a3a",
   "metadata": {},
   "outputs": [
    {
     "data": {
      "text/plain": [
       "(112, 9)"
      ]
     },
     "execution_count": 88,
     "metadata": {},
     "output_type": "execute_result"
    }
   ],
   "source": [
    "extracted_eval_data = face_matrix[0 : 16, :]\n",
    "remaining_train_data = np.delete(face_matrix, np.s_[0:16], axis = 0)\n",
    "remaining_train_data\n",
    "np.shape(remaining_train_data)\n"
   ]
  },
  {
   "cell_type": "code",
   "execution_count": null,
   "id": "8173d23a",
   "metadata": {},
   "outputs": [],
   "source": []
  }
 ],
 "metadata": {
  "kernelspec": {
   "display_name": "Python 3 (ipykernel)",
   "language": "python",
   "name": "python3"
  },
  "language_info": {
   "codemirror_mode": {
    "name": "ipython",
    "version": 3
   },
   "file_extension": ".py",
   "mimetype": "text/x-python",
   "name": "python",
   "nbconvert_exporter": "python",
   "pygments_lexer": "ipython3",
   "version": "3.9.7"
  }
 },
 "nbformat": 4,
 "nbformat_minor": 5
}
