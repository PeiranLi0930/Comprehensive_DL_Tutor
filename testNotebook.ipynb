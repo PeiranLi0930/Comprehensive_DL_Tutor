{
 "cells": [
  {
   "cell_type": "code",
   "execution_count": 1,
   "outputs": [],
   "source": [
    "import numpy as np"
   ],
   "metadata": {
    "collapsed": false,
    "pycharm": {
     "name": "#%%\n"
    }
   }
  },
  {
   "cell_type": "code",
   "execution_count": 3,
   "outputs": [],
   "source": [
    "import torch\n",
    "from torch import Tensor"
   ],
   "metadata": {
    "collapsed": false,
    "pycharm": {
     "name": "#%%\n"
    }
   }
  },
  {
   "cell_type": "code",
   "execution_count": 4,
   "outputs": [],
   "source": [
    "def multiples_of_ten(start: int, stop: int) -> Tensor:\n",
    "    \"\"\"\n",
    "    Returns a Tensor of dtype torch.float64 that contains all of the multiples\n",
    "    of ten (in order) between start and stop, inclusive. If there are no\n",
    "    multiples of ten in this range then return an empty tensor of shape (0,).\n",
    "\n",
    "    Args:\n",
    "        start: Beginning ot range to create.\n",
    "        stop: End of range to create (stop >= start).\n",
    "\n",
    "    Returns:\n",
    "        x: float64 Tensor giving multiples of ten between start and stop\n",
    "    \"\"\"\n",
    "    assert start <= stop\n",
    "    x = None\n",
    "    ##########################################################################\n",
    "    #                      TODO: Implement this function                     #\n",
    "    ##########################################################################\n",
    "    if ((start // 10 - stop // 10) == 0):\n",
    "      return torch.tensor([], dtype = torch.float64)\n",
    "\n",
    "    if (start % 10 == 0):\n",
    "      x = torch.arange(start, (stop // 10 + 1) * 10, 10, dtype = torch.float64)\n",
    "    else:\n",
    "      x = torch.arange((start//10 + 1) * 10, (stop//10 + 1) * 10, 10, dtype = torch.float64)\n",
    "\n",
    "    ##########################################################################\n",
    "    #                            END OF YOUR CODE                            #\n",
    "    ##########################################################################\n",
    "    return x"
   ],
   "metadata": {
    "collapsed": false,
    "pycharm": {
     "name": "#%%\n"
    }
   }
  },
  {
   "cell_type": "code",
   "execution_count": 7,
   "outputs": [
    {
     "name": "stdout",
     "output_type": "stream",
     "text": [
      "tensor([10., 20., 30., 40.], dtype=torch.float64)\n",
      "tensor([10.], dtype=torch.float64)\n"
     ]
    }
   ],
   "source": [
    "print(multiples_of_ten(10, 40))\n",
    "print(multiples_of_ten(9, 10))"
   ],
   "metadata": {
    "collapsed": false,
    "pycharm": {
     "name": "#%%\n"
    }
   }
  },
  {
   "cell_type": "code",
   "execution_count": null,
   "outputs": [],
   "source": [],
   "metadata": {
    "collapsed": false,
    "pycharm": {
     "name": "#%%\n"
    }
   }
  }
 ],
 "metadata": {
  "kernelspec": {
   "display_name": "Python 3",
   "language": "python",
   "name": "python3"
  },
  "language_info": {
   "codemirror_mode": {
    "name": "ipython",
    "version": 2
   },
   "file_extension": ".py",
   "mimetype": "text/x-python",
   "name": "python",
   "nbconvert_exporter": "python",
   "pygments_lexer": "ipython2",
   "version": "2.7.6"
  }
 },
 "nbformat": 4,
 "nbformat_minor": 0
}