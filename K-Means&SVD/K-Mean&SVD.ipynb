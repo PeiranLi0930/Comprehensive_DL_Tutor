{
 "cells": [
  {
   "cell_type": "markdown",
   "metadata": {},
   "source": [
    "## CS/ECE/ME532 Period 10 Activity\n",
    "\n",
    "Estimated Time:\n",
    "\n",
    "P1: 25 mins\n",
    "\n",
    "P2: 25 mins"
   ]
  },
  {
   "cell_type": "markdown",
   "metadata": {},
   "source": [
    "### Preambles"
   ]
  },
  {
   "cell_type": "code",
   "execution_count": 1,
   "metadata": {},
   "outputs": [],
   "source": [
    "import numpy as np # numpy\n",
    "from scipy.io import loadmat # load & save data\n",
    "from scipy.io import savemat\n",
    "import matplotlib.pyplot as plt # plot\n",
    "np.set_printoptions(formatter={'float': lambda x: \"{0:0.2f}\".format(x)})"
   ]
  },
  {
   "cell_type": "markdown",
   "metadata": {},
   "source": [
    "### Q1. $K$-means\n",
    "Let $\\boldsymbol{A} = \\left[ \\begin{array}{cccccc} 3 & 3 & 3 & -1 & -1 & -1\\\\ 1 & 1 & 1 & -3 & -3 & -3 \\\\ 1 & 1 & 1 & -3 & -3 & -3 \\\\3 & 3 & 3 & -1 & -1 & -1 \\end{array} \\right]$.   Use the provided script to help you complete the problem."
   ]
  },
  {
   "cell_type": "code",
   "execution_count": 3,
   "metadata": {},
   "outputs": [
    {
     "name": "stdout",
     "output_type": "stream",
     "text": [
      "A = \n",
      " [[3.00 3.00 3.00 -1.00 -1.00 -1.00]\n",
      " [1.00 1.00 1.00 -3.00 -3.00 -3.00]\n",
      " [1.00 1.00 1.00 -3.00 -3.00 -3.00]\n",
      " [3.00 3.00 3.00 -1.00 -1.00 -1.00]]\n"
     ]
    }
   ],
   "source": [
    "A = np.array([[3,3,3,-1,-1,-1],[1,1,1,-3,-3,-3],[1,1,1,-3,-3,-3],[3,3,3,-1,-1,-1]], float)\n",
    "rows, cols = A.shape\n",
    "print('A = \\n', A)"
   ]
  },
  {
   "cell_type": "code",
   "execution_count": 4,
   "metadata": {},
   "outputs": [
    {
     "name": "stdout",
     "output_type": "stream",
     "text": [
      "[3.00 3.00 3.00 -1.00 -1.00 -1.00]\n",
      "[1.00 1.00 1.00 -3.00 -3.00 -3.00]\n",
      "[1.00 1.00 1.00 -3.00 -3.00 -3.00]\n",
      "[3.00 3.00 3.00 -1.00 -1.00 -1.00]\n",
      "[3.00 1.00 1.00 3.00]\n",
      "[3.00 1.00 1.00 3.00]\n",
      "[3.00 1.00 1.00 3.00]\n",
      "[-1.00 -3.00 -3.00 -1.00]\n",
      "[-1.00 -3.00 -3.00 -1.00]\n",
      "[-1.00 -3.00 -3.00 -1.00]\n"
     ]
    }
   ],
   "source": [
    "# numpy iterates over the 0th dimension first (over the rows)\n",
    "for each_entry in A:\n",
    "    print(each_entry) # This prints iterates the \"rows\" of A\n",
    "    \n",
    "for each_entry in A.transpose():\n",
    "    print(each_entry) # This prints iterates the \"columns\" of A"
   ]
  },
  {
   "cell_type": "markdown",
   "metadata": {},
   "source": [
    "#### a) Understand the following implementation of the k-means algorithm and fill in the blank to define the distance function."
   ]
  },
  {
   "cell_type": "code",
   "execution_count": 5,
   "metadata": {},
   "outputs": [],
   "source": [
    "def dist(x, y):\n",
    "    \"\"\"\n",
    "    this function takes in two 1-d numpy as input an outputs \n",
    "    Euclidean the distance between them\n",
    "    \"\"\"\n",
    "    return (x-y).T@(x-y)\n",
    "\n",
    "def kMeans(X, K, maxIters = 20):\n",
    "    \"\"\"\n",
    "    this implementation of k-means takes as input\n",
    "    (i) a matrix X (with the data points as columns)\n",
    "    (ii) an integer K representing the number of clusters\n",
    "\n",
    "    returns\n",
    "    (i) a matrix with the K columns representing the cluster centers\n",
    "    (ii) a list C of the assigned cluster centers\n",
    "    \"\"\"\n",
    "    X_transpose = X.transpose()\n",
    "    centroids = X_transpose[np.random.choice(X.shape[0], K)]\n",
    "    for i in range(maxIters):\n",
    "        # Cluster Assignment step\n",
    "        C = np.array([np.argmin([dist(x_i, y_k) for y_k in centroids]) for x_i in X_transpose])\n",
    "        # Update centroids step \n",
    "        for k in range(K):\n",
    "            if (C == k).any():\n",
    "                centroids[k] = X_transpose[C == k].mean(axis = 0) \n",
    "            else: # if there are no data points assigned to this certain centroid\n",
    "                centroids[k] = X_transpose[np.random.choice(len(X))] \n",
    "    return centroids.transpose() , C"
   ]
  },
  {
   "cell_type": "markdown",
   "metadata": {},
   "source": [
    "#### b) Use the $K$-means algorithm to represent the columns of $\\boldsymbol{A}$ with a single cluster."
   ]
  },
  {
   "cell_type": "code",
   "execution_count": 6,
   "metadata": {},
   "outputs": [
    {
     "name": "stdout",
     "output_type": "stream",
     "text": [
      "A = \n",
      " [[3.00 3.00 3.00 -1.00 -1.00 -1.00]\n",
      " [1.00 1.00 1.00 -3.00 -3.00 -3.00]\n",
      " [1.00 1.00 1.00 -3.00 -3.00 -3.00]\n",
      " [3.00 3.00 3.00 -1.00 -1.00 -1.00]]\n",
      "centroids = \n",
      " [[1.00]\n",
      " [-1.00]\n",
      " [-1.00]\n",
      " [1.00]]\n",
      "centroid assignment = \n",
      " [0 0 0 0 0 0]\n"
     ]
    }
   ],
   "source": [
    "# k-means with 1 cluster\n",
    "centroids, C = kMeans(A, 1)\n",
    "print('A = \\n', A)\n",
    "print('centroids = \\n', centroids)\n",
    "print('centroid assignment = \\n', C)"
   ]
  },
  {
   "cell_type": "markdown",
   "metadata": {},
   "source": [
    "#### c) Construct a matrix $\\hat{A}_{r=1}$ whose i-th column is the centroid corresponding to the i-th column of $A$. Note that this can be viewed as a rank-1 approximation to $A$. Compare the rank-1 approximation to the original matrix and explain the nature of the approximation in terms of the properties of the K-means algorithm."
   ]
  },
  {
   "cell_type": "code",
   "execution_count": 10,
   "metadata": {},
   "outputs": [
    {
     "name": "stdout",
     "output_type": "stream",
     "text": [
      "Rank-1 Approximation, \n",
      " A_hat_1 = \n",
      " [[1.00 1.00 1.00 1.00 1.00 1.00]\n",
      " [-1.00 -1.00 -1.00 -1.00 -1.00 -1.00]\n",
      " [-1.00 -1.00 -1.00 -1.00 -1.00 -1.00]\n",
      " [1.00 1.00 1.00 1.00 1.00 1.00]]\n",
      "Comparasion:\n",
      " [[2.00 2.00 2.00 -2.00 -2.00 -2.00]\n",
      " [2.00 2.00 2.00 -2.00 -2.00 -2.00]\n",
      " [2.00 2.00 2.00 -2.00 -2.00 -2.00]\n",
      " [2.00 2.00 2.00 -2.00 -2.00 -2.00]]\n"
     ]
    }
   ],
   "source": [
    "# Construct rank-1 approximation using cluster\n",
    "centroids_transposed = centroids.transpose() # transpose \"centroids\" to iterate over columns\n",
    "\n",
    "A_hat_1 = centroids_transposed[C].transpose()\n",
    "print('Rank-1 Approximation, \\n A_hat_1 = \\n', A_hat_1)\n",
    "\n",
    "print(\"Comparasion:\\n\", A-A_hat_1)"
   ]
  },
  {
   "cell_type": "markdown",
   "metadata": {},
   "source": [
    "#### d) Repeat b) and c) with $K=2$. Compare the rank-2 approximation to the original matrix and explain the nature of the approximation in terms of the properties of the K-means algorithm."
   ]
  },
  {
   "cell_type": "code",
   "execution_count": 11,
   "metadata": {},
   "outputs": [
    {
     "name": "stdout",
     "output_type": "stream",
     "text": [
      "A = \n",
      " [[3.00 3.00 3.00 -1.00 -1.00 -1.00]\n",
      " [1.00 1.00 1.00 -3.00 -3.00 -3.00]\n",
      " [1.00 1.00 1.00 -3.00 -3.00 -3.00]\n",
      " [3.00 3.00 3.00 -1.00 -1.00 -1.00]]\n",
      "centroids = \n",
      " [[-1.00 3.00]\n",
      " [-3.00 1.00]\n",
      " [-3.00 1.00]\n",
      " [-1.00 3.00]]\n",
      "centroid assignment = \n",
      " [1 1 1 0 0 0]\n",
      "Rank-2 Approximation \n",
      " [[3.00 3.00 3.00 -1.00 -1.00 -1.00]\n",
      " [1.00 1.00 1.00 -3.00 -3.00 -3.00]\n",
      " [1.00 1.00 1.00 -3.00 -3.00 -3.00]\n",
      " [3.00 3.00 3.00 -1.00 -1.00 -1.00]]\n"
     ]
    }
   ],
   "source": [
    "# k-means with 2 cluster\n",
    "centroids, C = kMeans(A, 2)\n",
    "print('A = \\n', A)\n",
    "print('centroids = \\n', centroids)\n",
    "print('centroid assignment = \\n', C)\n",
    "centroids_transposed = centroids.transpose() # transpose \"centroids\" to iterate over columns\n",
    "A_hat_2 = centroids_transposed[C].T\n",
    "print('Rank-2 Approximation \\n', A_hat_2)"
   ]
  },
  {
   "cell_type": "markdown",
   "metadata": {},
   "source": [
    "### Q2. SVD"
   ]
  },
  {
   "cell_type": "markdown",
   "metadata": {},
   "source": [
    "Again let $\\boldsymbol{A} = \\left[ \\begin{array}{cccccc} 3 & 3 & 3 & -1 & -1 & -1\\\\ 1 & 1 & 1 & -3 & -3 & -3 \\\\ 1 & 1 & 1 & -3 & -3 & -3 \\\\3 & 3 & 3 & -1 & -1 & -1 \\end{array} \\right]$.  Now consider the singular value decomposition (SVD) $\\boldsymbol{A} = \\boldsymbol{U} \\boldsymbol{S} \\boldsymbol{V}^T$"
   ]
  },
  {
   "cell_type": "markdown",
   "metadata": {},
   "source": [
    "a) If the full SVD is computed, find the dimensions of $\\boldsymbol{U}, \\boldsymbol{S}$, and $\\boldsymbol{V}$."
   ]
  },
  {
   "cell_type": "markdown",
   "metadata": {},
   "source": [
    "b) Find the dimensions of $\\boldsymbol{U}, \\boldsymbol{S}$, and $\\boldsymbol{V}$ in the economy or skinny SVD of $\\boldsymbol{A}$."
   ]
  },
  {
   "cell_type": "markdown",
   "metadata": {},
   "source": [
    "c) The Python and NumPy command `U, s, VT = np.linalg.svd(A, full_matrices=True)` computes the singular value decomposition, $\\boldsymbol{A} = \\boldsymbol{U} \\boldsymbol{S} \\boldsymbol{V}^T$ where $\\boldsymbol{U}$ and $\\boldsymbol{V}$ are matrices with orthonormal columns comprising the left and right singular vectors and $\\boldsymbol{S}$ is a diagonal matrix of singular values.   \n",
    "\n",
    "i. Compute the SVD of $\\boldsymbol{A}$.  Make sure $\\boldsymbol{A} = \\boldsymbol{U} \\boldsymbol{S} \\boldsymbol{V}^T$ holds.\n",
    "\n",
    "ii. Find $\\boldsymbol{U}^T\\boldsymbol{U}$ and $\\boldsymbol{V}^T\\boldsymbol{V}$.  Are the columns of $\\boldsymbol{U}$ and $\\boldsymbol{V}$ orthonormal? Why? *Hint:* compute $\\boldsymbol{U}^T\\boldsymbol{U}$.\n",
    "\n",
    "iii. Find $\\boldsymbol{U}\\boldsymbol{U}^T$ and $\\boldsymbol{V}\\boldsymbol{V}^T$.  Are the rows of $\\boldsymbol{U}$ and $\\boldsymbol{V}$ orthonormal? Why?\n",
    "\n",
    "iv. Find the left and right singular vectors associated with the largest singular value.\n",
    "\n",
    "v. What is the rank of $\\boldsymbol{A}$?"
   ]
  },
  {
   "cell_type": "code",
   "execution_count": 12,
   "metadata": {},
   "outputs": [
    {
     "name": "stdout",
     "output_type": "stream",
     "text": [
      "[[3.00 3.00 3.00 -1.00 -1.00 -1.00]\n",
      " [1.00 1.00 1.00 -3.00 -3.00 -3.00]\n",
      " [1.00 1.00 1.00 -3.00 -3.00 -3.00]\n",
      " [3.00 3.00 3.00 -1.00 -1.00 -1.00]]\n",
      "[[3.00 3.00 3.00 -1.00 -1.00 -1.00]\n",
      " [1.00 1.00 1.00 -3.00 -3.00 -3.00]\n",
      " [1.00 1.00 1.00 -3.00 -3.00 -3.00]\n",
      " [3.00 3.00 3.00 -1.00 -1.00 -1.00]]\n"
     ]
    }
   ],
   "source": [
    "# i) \n",
    "U, s, VT = np.linalg.svd(A, full_matrices=True)\n",
    "S_matrix = np.zeros_like(A) ## Fill in the blank: Size of S should be equal to size of ???\n",
    "np.fill_diagonal(S_matrix, s) ## Fill in the diagonal entries of S_matrix with ???\n",
    "print(U@S_matrix@VT)\n",
    "print(A)"
   ]
  },
  {
   "cell_type": "code",
   "execution_count": 13,
   "metadata": {},
   "outputs": [
    {
     "name": "stdout",
     "output_type": "stream",
     "text": [
      "UTU: \n",
      " [[1.00 -0.00 0.00 -0.00]\n",
      " [-0.00 1.00 0.00 0.00]\n",
      " [0.00 0.00 1.00 -0.00]\n",
      " [-0.00 0.00 -0.00 1.00]]\n",
      "VTV: \n",
      " [[1.00 0.00 0.00 0.00 0.00 -0.00]\n",
      " [0.00 1.00 0.00 0.00 -0.00 -0.00]\n",
      " [0.00 0.00 1.00 -0.00 0.00 0.00]\n",
      " [0.00 0.00 -0.00 1.00 -0.00 -0.00]\n",
      " [0.00 -0.00 0.00 -0.00 1.00 -0.00]\n",
      " [-0.00 -0.00 0.00 -0.00 -0.00 1.00]]\n",
      "UUT: \n",
      " [[1.00 -0.00 -0.00 0.00]\n",
      " [-0.00 1.00 0.00 -0.00]\n",
      " [-0.00 0.00 1.00 0.00]\n",
      " [0.00 -0.00 0.00 1.00]]\n",
      "VVT: \n",
      " [[1.00 0.00 -0.00 -0.00 0.00 0.00]\n",
      " [0.00 1.00 0.00 -0.00 -0.00 -0.00]\n",
      " [-0.00 0.00 1.00 0.00 -0.00 -0.00]\n",
      " [-0.00 -0.00 0.00 1.00 -0.00 -0.00]\n",
      " [0.00 -0.00 -0.00 -0.00 1.00 -0.00]\n",
      " [0.00 -0.00 -0.00 -0.00 -0.00 1.00]]\n",
      "First left singular vector: \n",
      " [[-0.50]\n",
      " [-0.50]\n",
      " [-0.50]\n",
      " [-0.50]]\n",
      "Largest singular value: 9.797958971132712\n",
      "2\n"
     ]
    }
   ],
   "source": [
    "# ii)\n",
    "print('UTU: \\n', U.T@U) # i. Printing U^T*U\n",
    "print('VTV: \\n', VT@VT.T) # i. Printing V^T*V\n",
    "\n",
    "# iii)\n",
    "print('UUT: \\n', U@U.T) # i. Printing U*U^T\n",
    "print('VVT: \\n', VT.T@VT) # i. Printing V*V^T\n",
    "\n",
    "# iv) \n",
    "print('First left singular vector: \\n', U[:,[0]])\n",
    "print('Largest singular value:', s[0])\n",
    "\n",
    "# v)\n",
    "print(np.sum(np.abs(s)>1e-6)) # A is rank 2"
   ]
  },
  {
   "cell_type": "markdown",
   "metadata": {},
   "source": [
    "d) The Python and NumPy command `U, s, VT = np.linalg.svd(A, full_matrices=False)` computes the economy or skinny singular value decomposition, $\\boldsymbol{A} = \\boldsymbol{U} \\boldsymbol{S} \\boldsymbol{V}^T$ where $\\boldsymbol{U}$ and $\\boldsymbol{V}$ are matrices with orthonormal columns comprising the left and right singular vectors and $\\boldsymbol{S}$ is a square diagonal matrix of singular values.   \n",
    "\n",
    "i. Compute the SVD of $\\boldsymbol{A}$.  Make sure $\\boldsymbol{A} = \\boldsymbol{U} \\boldsymbol{S} \\boldsymbol{V}^T$ holds.\n",
    "\n",
    "ii. Find $\\boldsymbol{U}^T\\boldsymbol{U}$ and $\\boldsymbol{V}^T\\boldsymbol{V}$.  Are the columns of $\\boldsymbol{U}$ and $\\boldsymbol{V}$ orthonormal? Why? *Hint:* compute $\\boldsymbol{U}^T\\boldsymbol{U}$.\n",
    "\n",
    "iii. Find $\\boldsymbol{U}\\boldsymbol{U}^T$ and $\\boldsymbol{V}\\boldsymbol{V}^T$.  Are the rows of $\\boldsymbol{U}$ and $\\boldsymbol{V}$ orthonormal? Why?"
   ]
  },
  {
   "cell_type": "code",
   "execution_count": 19,
   "metadata": {},
   "outputs": [
    {
     "name": "stdout",
     "output_type": "stream",
     "text": [
      "[[3.00 3.00 3.00 -1.00 -1.00 -1.00]\n",
      " [1.00 1.00 1.00 -3.00 -3.00 -3.00]\n",
      " [1.00 1.00 1.00 -3.00 -3.00 -3.00]\n",
      " [3.00 3.00 3.00 -1.00 -1.00 -1.00]]\n",
      "[[-0.50 -0.50 -0.50 -0.50]\n",
      " [0.50 -0.50 -0.50 0.50]\n",
      " [0.60 0.37 -0.37 -0.60]\n",
      " [-0.37 0.60 -0.60 0.37]]\n",
      "[[-0.50 -0.50 -0.50 -0.50]\n",
      " [0.50 -0.50 -0.50 0.50]\n",
      " [0.60 0.37 -0.37 -0.60]\n",
      " [-0.37 0.60 -0.60 0.37]]\n"
     ]
    }
   ],
   "source": [
    "# Get the skinny SVD\n",
    "U, s, VT = np.linalg.svd(A, full_matrices=False)\n",
    "S_matrix = np.diag(s) # get the matrix Sigma\n",
    "print(U@S_matrix@VT)"
   ]
  },
  {
   "cell_type": "code",
   "execution_count": 15,
   "metadata": {},
   "outputs": [
    {
     "name": "stdout",
     "output_type": "stream",
     "text": [
      "UTU: \n",
      " [[1.00 -0.00 0.00 -0.00]\n",
      " [-0.00 1.00 0.00 0.00]\n",
      " [0.00 0.00 1.00 -0.00]\n",
      " [-0.00 0.00 -0.00 1.00]]\n",
      "VTV: \n",
      " [[1.00 0.00 0.00 0.00]\n",
      " [0.00 1.00 0.00 0.00]\n",
      " [0.00 0.00 1.00 -0.00]\n",
      " [0.00 0.00 -0.00 1.00]]\n",
      "UUT: \n",
      " [[1.00 -0.00 -0.00 0.00]\n",
      " [-0.00 1.00 0.00 -0.00]\n",
      " [-0.00 0.00 1.00 0.00]\n",
      " [0.00 -0.00 0.00 1.00]]\n",
      "VVT: \n",
      " [[1.00 0.00 -0.00 0.00 0.00 0.00]\n",
      " [0.00 1.00 0.00 -0.00 -0.00 -0.00]\n",
      " [-0.00 0.00 1.00 0.00 -0.00 -0.00]\n",
      " [0.00 -0.00 0.00 0.33 0.33 0.33]\n",
      " [0.00 -0.00 -0.00 0.33 0.33 0.33]\n",
      " [0.00 -0.00 -0.00 0.33 0.33 0.33]]\n"
     ]
    }
   ],
   "source": [
    "# ii)\n",
    "print('UTU: \\n', U.T@U) # i. Printing U^T*U\n",
    "print('VTV: \\n', VT@VT.T) # i. Printing V^T*V\n",
    "\n",
    "# iii)\n",
    "print('UUT: \\n', U@U.T) # i. Printing U*U^T\n",
    "print('VVT: \\n', VT.T@VT) # i. Printing V*V^T"
   ]
  },
  {
   "cell_type": "markdown",
   "metadata": {},
   "source": [
    "e) Compare the singular vectors and singular values of the economy and full SVD.  How do they differ?\n"
   ]
  },
  {
   "cell_type": "markdown",
   "metadata": {},
   "source": [
    "f) Identify an orthonormal basis for the space spanned by the columns of $\\boldsymbol{A}$."
   ]
  },
  {
   "cell_type": "markdown",
   "metadata": {},
   "source": [
    "g) Identify an orthonormal basis for the space spanned by the rows of $\\boldsymbol{A}$."
   ]
  },
  {
   "cell_type": "markdown",
   "metadata": {},
   "source": [
    "h) Define the rank-$r$ approximation to $\\boldsymbol{A}$ as $\\boldsymbol{A}_r = \\sum_{i=1}^r \\sigma_i \\boldsymbol{u}_i \\boldsymbol{v}_i^T$ where $\\sigma_i$ is the ith singular value with left singular vector $\\boldsymbol{u}_i$ and right singular vector $\\boldsymbol{v}_i$.\n",
    "\n",
    "i. Find the rank-1 approximation $\\boldsymbol{A}_1$.  How does $\\boldsymbol{A}_1$ compare to $\\boldsymbol{A}$?\n",
    "\n",
    "ii. Find the rank-2 approximation $\\boldsymbol{A}_2$.  How does $\\boldsymbol{A}_2$ compare to $\\boldsymbol{A}$?"
   ]
  },
  {
   "cell_type": "code",
   "execution_count": 26,
   "metadata": {},
   "outputs": [
    {
     "data": {
      "text/plain": "<Figure size 432x288 with 1 Axes>",
      "image/png": "[encoded data removed]"
     },
     "metadata": {
      "needs_background": "light"
     },
     "output_type": "display_data"
    },
    {
     "data": {
      "text/plain": "<Figure size 432x288 with 1 Axes>",
      "image/png": "[encoded data removed]"
     },
     "metadata": {
      "needs_background": "light"
     },
     "output_type": "display_data"
    },
    {
     "data": {
      "text/plain": "<Figure size 432x288 with 1 Axes>",
      "image/png": "[encoded data removed]"
     },
     "metadata": {
      "needs_background": "light"
     },
     "output_type": "display_data"
    }
   ],
   "source": [
    "\n",
    "## display the original matrix using a heatmap\n",
    "plt.figure(num=None)\n",
    "for (j,i),label in np.ndenumerate(A):\n",
    "    plt.text(i,j,np.round(label,1),ha='center',va='center')\n",
    "plt.imshow(A, vmin=-5, vmax=5, interpolation='none', cmap='gray')\n",
    "plt.title('Original matrix' )\n",
    "\n",
    "## display the rank-r approximations using a heatmap\n",
    "for r in range(1,3):\n",
    "    ## Fill in the blank: choose the first r colummns of U, first r singular values, etc...\n",
    "    A_rank_r_approx = U[:,:r]@S_matrix[:r,0:r]@VT[:r,:]\n",
    "    plt.figure(num=None)\n",
    "    for (j,i),label in np.ndenumerate(A_rank_r_approx):\n",
    "        plt.text(i,j,np.round(label,1),ha='center',va='center')\n",
    "    plt.imshow(A_rank_r_approx, vmin=-10, vmax=10, interpolation='none', cmap='gray')\n",
    "    plt.title('rank ' + str(r) + ' approximation')"
   ]
  },
  {
   "cell_type": "markdown",
   "metadata": {},
   "source": [
    "i) The economy SVD is based on the dimension of the matrices and does not consider the rank of the matrix.   What is the smallest economy SVD (minimum dimension of the square matrix $\\boldsymbol{S}$) possible for the matrix $\\boldsymbol{A}$?  Find $\\boldsymbol{U}, \\boldsymbol{S}$, and $\\boldsymbol{V}$ for this minimal economy SVD."
   ]
  },
  {
   "cell_type": "markdown",
   "source": [
    "Rank A is 2, so the economy SVD S is 2*2 matrix, U is 4*2 matrix, and VT is 2*6 matrix"
   ],
   "metadata": {
    "collapsed": false
   }
  },
  {
   "cell_type": "code",
   "execution_count": null,
   "outputs": [],
   "source": [],
   "metadata": {
    "collapsed": false,
    "pycharm": {
     "name": "#%%\n"
    }
   }
  }
 ],
 "metadata": {
  "kernelspec": {
   "display_name": "Python 3",
   "language": "python",
   "name": "python3"
  },
  "language_info": {
   "codemirror_mode": {
    "name": "ipython",
    "version": 3
   },
   "file_extension": ".py",
   "mimetype": "text/x-python",
   "name": "python",
   "nbconvert_exporter": "python",
   "pygments_lexer": "ipython3",
   "version": "3.7.4"
  }
 },
 "nbformat": 4,
 "nbformat_minor": 2
}