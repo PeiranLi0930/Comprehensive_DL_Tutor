{
 "cells": [
  {
   "cell_type": "code",
   "execution_count": 1,
   "metadata": {
    "collapsed": true
   },
   "outputs": [],
   "source": [
    "import tensorflow as tf\n",
    "import numpy as np"
   ]
  },
  {
   "cell_type": "markdown",
   "source": [
    "### Prepare the training data and test data"
   ],
   "metadata": {
    "collapsed": false
   }
  },
  {
   "cell_type": "code",
   "execution_count": 13,
   "outputs": [
    {
     "data": {
      "text/plain": "(10000, 3072)"
     },
     "execution_count": 13,
     "metadata": {},
     "output_type": "execute_result"
    }
   ],
   "source": [
    "(x_train, y_train), (x_test, y_test) = tf.keras.datasets.cifar10.load_data()\n",
    "x_train_rows = x_train.reshape(x_train.shape[0], -1)\n",
    "x_test_rows = x_test.reshape(x_test.shape[0], -1)"
   ],
   "metadata": {
    "collapsed": false,
    "pycharm": {
     "name": "#%%\n"
    }
   }
  },
  {
   "cell_type": "code",
   "execution_count": null,
   "outputs": [],
   "source": [
    "# here we separate 1000 data to be the validation/development set\n",
    "x_val = x_train_rows[:1000]\n",
    "y_val = y_train[:1000]\n",
    "# the remaining data as the training set\n",
    "x_train_rows = x_train_rows[1000:]\n",
    "y_train = y_train[1000:]"
   ],
   "metadata": {
    "collapsed": false,
    "pycharm": {
     "name": "#%%\n"
    }
   }
  },
  {
   "cell_type": "markdown",
   "source": [
    "### RUN THIS: Utils for Nearest Neighbor Classifier"
   ],
   "metadata": {
    "collapsed": false
   }
  },
  {
   "cell_type": "code",
   "execution_count": 14,
   "outputs": [],
   "source": [
    "class NearestNeighbor():\n",
    "    def __init__(self):\n",
    "        pass\n",
    "\n",
    "    def train(self, X, y):\n",
    "        \"\"\"\n",
    "        Training the Nearest Neighbor Classifier by\n",
    "        :param X: training set data (training samples are ranged row by row)\n",
    "        :param y: training set labels\n",
    "        \"\"\"\n",
    "        self.x_train = X\n",
    "        self.y_train = y\n",
    "\n",
    "    def predict(self, X, loss = \"l1\"): \n",
    "        \"\"\"\n",
    "        Predict the labels depending on the given data\n",
    "        :param X:\n",
    "        :param loss: the loss function. l1 - l1 norm, l2 - l2 norm\n",
    "        :return:\n",
    "        \"\"\"\n",
    "        testset_num = X.shape[0]\n",
    "        y_pred = np.zeros(X.shape[0], dtype = self.y_train.dtype)\n",
    "\n",
    "        for i in range(testset_num):\n",
    "            # broadcasting to the x_train shape\n",
    "            if (loss == \"l2\"):\n",
    "                distances = np.sqrt(np.sum(np.square(self.x_train - X[i]), axis = 1))\n",
    "            else:\n",
    "                distances = np.sum(np.abs(self.x_train - X[i]), axis = 1)\n",
    "            min_index = np.argmin(distances)\n",
    "            y_pred[i] = self.y_train[min_index]\n",
    "\n",
    "        return y_pred"
   ],
   "metadata": {
    "collapsed": false,
    "pycharm": {
     "name": "#%%\n"
    }
   }
  },
  {
   "cell_type": "markdown",
   "source": [
    "### Now we've all images stretched out as rows.\n",
    "\n",
    "### We're going to train the Nearest Neighbor classifier"
   ],
   "metadata": {
    "collapsed": false
   }
  },
  {
   "cell_type": "code",
   "execution_count": 15,
   "outputs": [
    {
     "ename": "KeyboardInterrupt",
     "evalue": "",
     "output_type": "error",
     "traceback": [
      "\u001B[0;31m---------------------------------------------------------------------------\u001B[0m",
      "\u001B[0;31mKeyboardInterrupt\u001B[0m                         Traceback (most recent call last)",
      "Cell \u001B[0;32mIn[15], line 3\u001B[0m\n\u001B[1;32m      1\u001B[0m nearest_neighbor_classifier \u001B[38;5;241m=\u001B[39m NearestNeighbor()\n\u001B[1;32m      2\u001B[0m nearest_neighbor_classifier\u001B[38;5;241m.\u001B[39mtrain(x_train_rows, y_train)\n\u001B[0;32m----> 3\u001B[0m y_pred \u001B[38;5;241m=\u001B[39m \u001B[43mnearest_neighbor_classifier\u001B[49m\u001B[38;5;241;43m.\u001B[39;49m\u001B[43mpredict\u001B[49m\u001B[43m(\u001B[49m\u001B[43mx_test_rows\u001B[49m\u001B[43m)\u001B[49m\n\u001B[1;32m      4\u001B[0m \u001B[38;5;28mprint\u001B[39m(\u001B[38;5;124mf\u001B[39m\u001B[38;5;124m\"\u001B[39m\u001B[38;5;124mAccuracy: \u001B[39m\u001B[38;5;132;01m{\u001B[39;00mnp\u001B[38;5;241m.\u001B[39mmean(y_pred \u001B[38;5;241m==\u001B[39m y_test)\u001B[38;5;132;01m}\u001B[39;00m\u001B[38;5;124m\"\u001B[39m)\n",
      "Cell \u001B[0;32mIn[14], line 20\u001B[0m, in \u001B[0;36mNearestNeighbor.predict\u001B[0;34m(self, X)\u001B[0m\n\u001B[1;32m     16\u001B[0m y_pred \u001B[38;5;241m=\u001B[39m np\u001B[38;5;241m.\u001B[39mzeros(X\u001B[38;5;241m.\u001B[39mshape[\u001B[38;5;241m0\u001B[39m], dtype \u001B[38;5;241m=\u001B[39m \u001B[38;5;28mself\u001B[39m\u001B[38;5;241m.\u001B[39my_train\u001B[38;5;241m.\u001B[39mdtype)\n\u001B[1;32m     18\u001B[0m \u001B[38;5;28;01mfor\u001B[39;00m i \u001B[38;5;129;01min\u001B[39;00m \u001B[38;5;28mrange\u001B[39m(testset_num):\n\u001B[1;32m     19\u001B[0m     \u001B[38;5;66;03m# broadcasting to the x_train shape\u001B[39;00m\n\u001B[0;32m---> 20\u001B[0m     distances \u001B[38;5;241m=\u001B[39m np\u001B[38;5;241m.\u001B[39msum(\u001B[43mnp\u001B[49m\u001B[38;5;241;43m.\u001B[39;49m\u001B[43mabs\u001B[49m\u001B[43m(\u001B[49m\u001B[38;5;28;43mself\u001B[39;49m\u001B[38;5;241;43m.\u001B[39;49m\u001B[43mx_train\u001B[49m\u001B[43m \u001B[49m\u001B[38;5;241;43m-\u001B[39;49m\u001B[43m \u001B[49m\u001B[43mX\u001B[49m\u001B[43m[\u001B[49m\u001B[43mi\u001B[49m\u001B[43m]\u001B[49m\u001B[43m)\u001B[49m, axis\u001B[38;5;241m=\u001B[39m\u001B[38;5;241m1\u001B[39m)\n\u001B[1;32m     21\u001B[0m     min_index \u001B[38;5;241m=\u001B[39m np\u001B[38;5;241m.\u001B[39margmin(distances)\n\u001B[1;32m     22\u001B[0m     y_pred[i] \u001B[38;5;241m=\u001B[39m \u001B[38;5;28mself\u001B[39m\u001B[38;5;241m.\u001B[39my_train[min_index]\n",
      "\u001B[0;31mKeyboardInterrupt\u001B[0m: "
     ]
    }
   ],
   "source": [
    "# initialize a classifier\n",
    "nearest_neighbor_classifier = NearestNeighbor()\n",
    "\n",
    "# training the model\n",
    "nearest_neighbor_classifier.train(x_train_rows, y_train)\n",
    "\n",
    "# predict on the testset and evaluate the result\n",
    "# Note: May need a long time without training with GPUs\n",
    "y_pred = nearest_neighbor_classifier.predict(x_test_rows)\n",
    "print(f\"Accuracy: {np.mean(y_pred == y_test)}\")"
   ],
   "metadata": {
    "collapsed": false,
    "pycharm": {
     "name": "#%%\n"
    }
   }
  },
  {
   "cell_type": "code",
   "execution_count": null,
   "outputs": [],
   "source": [
    "# evaluate the model by L2 norm\n",
    "y_pred = nearest_neighbor_classifier.predict(x_test_rows, loss = \"l2\")"
   ],
   "metadata": {
    "collapsed": false,
    "pycharm": {
     "name": "#%%\n"
    }
   }
  },
  {
   "cell_type": "markdown",
   "source": [
    "### Tuning hyper parameter K\n",
    "Find different hyperparameters' performance"
   ],
   "metadata": {
    "collapsed": false
   }
  },
  {
   "cell_type": "code",
   "execution_count": null,
   "outputs": [],
   "source": [
    "validation_accuracy = []\n",
    "for k in [1, 3, 5, 10, 20, 50, 100]:\n",
    "    nn = NearestNeighbor()\n",
    "    nn.train(x_train_rows, y_train)\n",
    "    y_pred = nn.predict(x_val, k = k) # we assume we overload the predict function that can\n",
    "    # accept a hyperparameter k\n",
    "    acc = np.mean(y_pred == y_test)\n",
    "    print(f\"Accuracy: {acc}\")\n",
    "\n",
    "    validation_accuracy.append((k, acc))"
   ],
   "metadata": {
    "collapsed": false,
    "pycharm": {
     "name": "#%%\n"
    }
   }
  }
 ],
 "metadata": {
  "kernelspec": {
   "display_name": "Python 3",
   "language": "python",
   "name": "python3"
  },
  "language_info": {
   "codemirror_mode": {
    "name": "ipython",
    "version": 2
   },
   "file_extension": ".py",
   "mimetype": "text/x-python",
   "name": "python",
   "nbconvert_exporter": "python",
   "pygments_lexer": "ipython2",
   "version": "2.7.6"
  }
 },
 "nbformat": 4,
 "nbformat_minor": 0
}