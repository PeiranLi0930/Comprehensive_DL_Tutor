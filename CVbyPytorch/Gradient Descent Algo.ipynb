{
 "cells": [
  {
   "cell_type": "markdown",
   "metadata": {
    "collapsed": true,
    "pycharm": {
     "name": "#%% md\n"
    }
   },
   "source": [
    "# Gradient Descent Algos"
   ]
  },
  {
   "cell_type": "markdown",
   "source": [
    "## Numerical Gradient Descent Algo\n",
    "\n",
    "- Slow but easy"
   ],
   "metadata": {
    "collapsed": false
   }
  },
  {
   "cell_type": "code",
   "execution_count": null,
   "outputs": [],
   "source": [
    "import numpy as np\n",
    "\n",
    "def eval_numerical_gradient_descent(f, x):\n",
    "    '''\n",
    "\n",
    "    :param f: the loss function\n",
    "    :param x: the vector\n",
    "    :return: the gradient\n",
    "    '''\n",
    "\n",
    "    fx = f(x)\n",
    "    grad = np.zeros(x.shape)\n",
    "    step_size = 0.0001\n",
    "\n",
    "    iterator = np.nditer(x, flags=['multi_index'], op_flags=['readwrite'])\n",
    "\n",
    "    while not iterator.finished:\n",
    "        index = iterator.multi_index\n",
    "        old_val = x[index]\n",
    "        x[index] = old_val + step_size\n",
    "        fx_h = f(x) # f(x + step_size)\n",
    "        x[index] = old_val # restore the value IMPORTANT!\n",
    "\n",
    "        grad[index] = (fx_h - fx) / step_size\n",
    "        iterator.iternext()\n",
    "\n",
    "    return grad"
   ],
   "metadata": {
    "collapsed": false,
    "pycharm": {
     "name": "#%%\n"
    }
   }
  },
  {
   "cell_type": "markdown",
   "source": [
    "## Define the Loss Function"
   ],
   "metadata": {
    "collapsed": false
   }
  },
  {
   "cell_type": "code",
   "execution_count": null,
   "outputs": [],
   "source": [
    "def L(x_train, y_train, W):\n",
    "    pass\n",
    "\n",
    "def CIFAR10_loss_fun(W):\n",
    "    x_train, y_train, _, _= None, None, None, None\n",
    "  return L(x_train, y_train, W)\n",
    "\n",
    "W = np.random.rand(10, 3073) * 0.001 # random weight vector\n",
    "df = eval_numerical_gradient(CIFAR10_loss_fun, W) # get the gradient"
   ],
   "metadata": {
    "collapsed": false,
    "pycharm": {
     "name": "#%%\n"
    }
   }
  },
  {
   "cell_type": "markdown",
   "source": [
    "## Update the W by Gradient"
   ],
   "metadata": {
    "collapsed": false
   }
  },
  {
   "cell_type": "code",
   "execution_count": null,
   "outputs": [],
   "source": [
    "loss_original = CIFAR10_loss_fun(W) # the original loss\n",
    "print ('original loss: %f' % loss_original )\n",
    "\n",
    "# lets see the effect of multiple step sizes\n",
    "for step_size_log in [-10, -9, -8, -7, -6, -5,-4,-3,-2,-1]:\n",
    "  step_size = 10 ** step_size_log\n",
    "  W_new = W - step_size * df # new position in the weight space\n",
    "  loss_new = CIFAR10_loss_fun(W_new)\n",
    "  print ('for step size %f new loss: %f' % (step_size, loss_new))\n",
    "\n",
    "# original loss: 2.200718\n",
    "# for step size 1.000000e-10 new loss: 2.200652\n",
    "# for step size 1.000000e-09 new loss: 2.200057\n",
    "# for step size 1.000000e-08 new loss: 2.194116\n",
    "# for step size 1.000000e-07 new loss: 2.135493\n",
    "# for step size 1.000000e-06 new loss: 1.647802\n",
    "# for step size 1.000000e-05 new loss: 2.844355\n",
    "# for step size 1.000000e-04 new loss: 25.558142\n",
    "# for step size 1.000000e-03 new loss: 254.086573\n",
    "# for step size 1.000000e-02 new loss: 2539.370888\n",
    "# for step size 1.000000e-01 new loss: 25392.214036"
   ],
   "metadata": {
    "collapsed": false,
    "pycharm": {
     "name": "#%%\n"
    }
   }
  },
  {
   "cell_type": "code",
   "execution_count": null,
   "outputs": [],
   "source": [],
   "metadata": {
    "collapsed": false,
    "pycharm": {
     "name": "#%%\n"
    }
   }
  }
 ],
 "metadata": {
  "kernelspec": {
   "display_name": "Python 3",
   "language": "python",
   "name": "python3"
  },
  "language_info": {
   "codemirror_mode": {
    "name": "ipython",
    "version": 2
   },
   "file_extension": ".py",
   "mimetype": "text/x-python",
   "name": "python",
   "nbconvert_exporter": "python",
   "pygments_lexer": "ipython2",
   "version": "2.7.6"
  }
 },
 "nbformat": 4,
 "nbformat_minor": 0
}