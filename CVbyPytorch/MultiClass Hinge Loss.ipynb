{
 "cells": [
  {
   "cell_type": "markdown",
   "source": [
    "# Multiclass SVM Loss with L2 Regularizer\n",
    "\n",
    "This is a half-vectorized version of the Multiclass SVM Loss with L2 Regularization"
   ],
   "metadata": {
    "collapsed": false
   }
  },
  {
   "cell_type": "code",
   "execution_count": null,
   "metadata": {
    "collapsed": true
   },
   "outputs": [],
   "source": [
    "import numpy as np\n",
    "\n",
    "def loss(x, y, W, delta = 1.0, lambd = 0.01):\n",
    "    '''\n",
    "    half-vectorized multiclass SVM loss with l2-norm regularizer\n",
    "\n",
    "    :param x: the single data vector\n",
    "    :param y: the true label\n",
    "    :param W: parameter matrix\n",
    "    :param delta: a hyperparameter controlling the margin\n",
    "    :param lambd: regularizer tuning parameter\n",
    "    :return: loss\n",
    "    '''\n",
    "    scores = W @ x\n",
    "    margins = np.maximum(0, scores - scores[y] + delta)\n",
    "    regularizer = lambd * np.sum(margins ** 2)\n",
    "    margins[y] = 0\n",
    "    return np.sum(margins) + regularizer"
   ]
  }
 ],
 "metadata": {
  "kernelspec": {
   "display_name": "Python 3",
   "language": "python",
   "name": "python3"
  },
  "language_info": {
   "codemirror_mode": {
    "name": "ipython",
    "version": 2
   },
   "file_extension": ".py",
   "mimetype": "text/x-python",
   "name": "python",
   "nbconvert_exporter": "python",
   "pygments_lexer": "ipython2",
   "version": "2.7.6"
  }
 },
 "nbformat": 4,
 "nbformat_minor": 0
}